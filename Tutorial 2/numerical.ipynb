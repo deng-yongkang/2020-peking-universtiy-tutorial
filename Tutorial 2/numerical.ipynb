{
 "cells": [
  {
   "cell_type": "markdown",
   "metadata": {
    "toc": true
   },
   "source": [
    "<h1>Table of Contents<span class=\"tocSkip\"></span></h1>\n",
    "<div class=\"toc\"><ul class=\"toc-item\"><li><span><a href=\"#Logistic\" data-toc-modified-id=\"Logistic-1\"><span class=\"toc-item-num\">1&nbsp;&nbsp;</span>Logistic</a></span></li><li><span><a href=\"#Theory\" data-toc-modified-id=\"Theory-2\"><span class=\"toc-item-num\">2&nbsp;&nbsp;</span>Theory</a></span><ul class=\"toc-item\"><li><span><a href=\"#Definition\" data-toc-modified-id=\"Definition-2.1\"><span class=\"toc-item-num\">2.1&nbsp;&nbsp;</span>Definition</a></span></li><li><span><a href=\"#General-fomulation\" data-toc-modified-id=\"General-fomulation-2.2\"><span class=\"toc-item-num\">2.2&nbsp;&nbsp;</span>General fomulation</a></span></li><li><span><a href=\"#2-D-analytical-solution\" data-toc-modified-id=\"2-D-analytical-solution-2.3\"><span class=\"toc-item-num\">2.3&nbsp;&nbsp;</span>2-D analytical solution</a></span></li><li><span><a href=\"#Exercise\" data-toc-modified-id=\"Exercise-2.4\"><span class=\"toc-item-num\">2.4&nbsp;&nbsp;</span>Exercise</a></span></li></ul></li><li><span><a href=\"#Numerical-experiments\" data-toc-modified-id=\"Numerical-experiments-3\"><span class=\"toc-item-num\">3&nbsp;&nbsp;</span>Numerical experiments</a></span><ul class=\"toc-item\"><li><span><a href=\"#Effects-of-spatial-source-distribution\" data-toc-modified-id=\"Effects-of-spatial-source-distribution-3.1\"><span class=\"toc-item-num\">3.1&nbsp;&nbsp;</span>Effects of spatial source distribution</a></span><ul class=\"toc-item\"><li><span><a href=\"#A-single-source\" data-toc-modified-id=\"A-single-source-3.1.1\"><span class=\"toc-item-num\">3.1.1&nbsp;&nbsp;</span>A single source</a></span></li><li><span><a href=\"#Circular-and-isotropic-sources\" data-toc-modified-id=\"Circular-and-isotropic-sources-3.1.2\"><span class=\"toc-item-num\">3.1.2&nbsp;&nbsp;</span>Circular and isotropic sources</a></span></li><li><span><a href=\"#Strong-localized-sources\" data-toc-modified-id=\"Strong-localized-sources-3.1.3\"><span class=\"toc-item-num\">3.1.3&nbsp;&nbsp;</span>Strong localized sources</a></span></li><li><span><a href=\"#Exercise:-Stack-sources-within-the-stationary-phase-zone-only\" data-toc-modified-id=\"Exercise:-Stack-sources-within-the-stationary-phase-zone-only-3.1.4\"><span class=\"toc-item-num\">3.1.4&nbsp;&nbsp;</span>Exercise: Stack sources within the stationary phase zone only</a></span></li><li><span><a href=\"#Exercise:-DIY-anisotropic-source-distributions\" data-toc-modified-id=\"Exercise:-DIY-anisotropic-source-distributions-3.1.5\"><span class=\"toc-item-num\">3.1.5&nbsp;&nbsp;</span>Exercise: DIY anisotropic source distributions</a></span></li><li><span><a href=\"#Exercise:-Near-field-sources\" data-toc-modified-id=\"Exercise:-Near-field-sources-3.1.6\"><span class=\"toc-item-num\">3.1.6&nbsp;&nbsp;</span>Exercise: Near-field sources</a></span></li></ul></li><li><span><a href=\"#Effects-of-(pre)processing\" data-toc-modified-id=\"Effects-of-(pre)processing-3.2\"><span class=\"toc-item-num\">3.2&nbsp;&nbsp;</span>Effects of (pre)processing</a></span><ul class=\"toc-item\"><li><span><a href=\"#One-bit\" data-toc-modified-id=\"One-bit-3.2.1\"><span class=\"toc-item-num\">3.2.1&nbsp;&nbsp;</span>One-bit</a></span></li><li><span><a href=\"#Exercise:-Tune-one-bit-threshold\" data-toc-modified-id=\"Exercise:-Tune-one-bit-threshold-3.2.2\"><span class=\"toc-item-num\">3.2.2&nbsp;&nbsp;</span>Exercise: Tune one-bit threshold</a></span></li></ul></li><li><span><a href=\"#Effects-of-structure\" data-toc-modified-id=\"Effects-of-structure-3.3\"><span class=\"toc-item-num\">3.3&nbsp;&nbsp;</span>Effects of structure</a></span><ul class=\"toc-item\"><li><span><a href=\"#Azimuthal-anisotropic-speed\" data-toc-modified-id=\"Azimuthal-anisotropic-speed-3.3.1\"><span class=\"toc-item-num\">3.3.1&nbsp;&nbsp;</span>Azimuthal anisotropic speed</a></span></li><li><span><a href=\"#Exercise:-DIY-azimuthal-anisotropic-speed\" data-toc-modified-id=\"Exercise:-DIY-azimuthal-anisotropic-speed-3.3.2\"><span class=\"toc-item-num\">3.3.2&nbsp;&nbsp;</span>Exercise: DIY azimuthal anisotropic speed</a></span></li></ul></li></ul></li><li><span><a href=\"#Summary-&amp;-Further-reading\" data-toc-modified-id=\"Summary-&amp;-Further-reading-4\"><span class=\"toc-item-num\">4&nbsp;&nbsp;</span>Summary &amp; Further reading</a></span></li><li><span><a href=\"#Feedback\" data-toc-modified-id=\"Feedback-5\"><span class=\"toc-item-num\">5&nbsp;&nbsp;</span>Feedback</a></span></li><li><span><a href=\"#Helper-function\" data-toc-modified-id=\"Helper-function-6\"><span class=\"toc-item-num\">6&nbsp;&nbsp;</span>Helper function</a></span></li></ul></div>"
   ]
  },
  {
   "cell_type": "markdown",
   "metadata": {
    "heading_collapsed": true
   },
   "source": [
    "# Tutorial 2: Towards understanding seismic ambient noise interferometry via numerical experiments <a class=\"tocSkip\">"
   ]
  },
  {
   "cell_type": "markdown",
   "metadata": {},
   "source": [
    "# Logistic"
   ]
  },
  {
   "cell_type": "markdown",
   "metadata": {},
   "source": [
    "Please refer to course requirements for assignments due.\n",
    "Your solutions to theoretical questions should be done in Markdown/MathJax directly below the associated question.\n",
    "Your solutions to computational questions should include any specified Python code and results \n",
    "as well as written commentary on your conclusions.\n",
    "Remember that you are encouraged to discuss the problems with your instructors and classmates, \n",
    "but **you must write all code and solutions on your own**.\n",
    "\n",
    "This tutorial aims to\n",
    "- provide an intuitive understanding of why seismic interferometry works\n",
    "- motivate (pre)processing of seismic ambient noise and raise awareness of its effects\n",
    "- illustrate source-structure trade-off in seismic interferograms\n",
    "    \n",
    "Prerequisite: This tutorial requires certain familarity with `python` and `jupyter notebook` (Tutorial 1) but is self-contained in principle."
   ]
  },
  {
   "cell_type": "markdown",
   "metadata": {},
   "source": [
    "- First, let's run the cell below to import packages and the last cell with [helper functions](#helper)."
   ]
  },
  {
   "cell_type": "code",
   "execution_count": null,
   "metadata": {},
   "outputs": [],
   "source": [
    "from copy import deepcopy\n",
    "\n",
    "import matplotlib.pyplot as plt\n",
    "from matplotlib.gridspec import GridSpec\n",
    "import numpy as np\n",
    "import scipy as sp\n",
    "import scipy.signal\n",
    "from scipy.signal import convolve, correlate\n",
    "\n",
    "\n",
    "size = 20\n",
    "plt.rcParams.update({\n",
    "    'figure.figsize': (6, 4),\n",
    "    'figure.dpi': 200,\n",
    "    'font.size': size/2,\n",
    "    'legend.fontsize': 'large',\n",
    "    'axes.labelsize': size,\n",
    "    'axes.titlesize': size,\n",
    "    'xtick.labelsize': size*0.75,\n",
    "    'xtick.minor.visible': True,\n",
    "    'xtick.direction': 'in',\n",
    "    'ytick.direction': 'in',\n",
    "    'ytick.minor.visible': True,\n",
    "    'ytick.labelsize': size*0.75,\n",
    "    'axes.titlepad': 1,\n",
    "})"
   ]
  },
  {
   "cell_type": "markdown",
   "metadata": {},
   "source": [
    "back from Helper Function\n",
    "<a id='helper_back'></a>"
   ]
  },
  {
   "cell_type": "markdown",
   "metadata": {},
   "source": [
    "# Theory"
   ]
  },
  {
   "cell_type": "markdown",
   "metadata": {},
   "source": [
    "- Run the cell below to enable numbering of the equations."
   ]
  },
  {
   "cell_type": "code",
   "execution_count": null,
   "metadata": {},
   "outputs": [],
   "source": [
    "%%javascript\n",
    "MathJax.Hub.Config({\n",
    "    TeX: { equationNumbers: { autoNumber: \"AMS\" } }\n",
    "});"
   ]
  },
  {
   "cell_type": "markdown",
   "metadata": {
    "heading_collapsed": true
   },
   "source": [
    "## Definition\n",
    "\n",
    "The [**cross-correlation**](https://en.wikipedia.org/wiki/Cross-correlation) $C_{fg}$ of two real functions $f, g$ in time domain is defined as\n",
    "\n",
    "$$\n",
    "\\begin{equation}\n",
    "C_{fg} (t) \\equiv f \\star g ~(t) = \\int_{-\\infty}^{\\infty} f(\\tau) g(t+\\tau) ~d\\tau,\n",
    "\\end{equation}\n",
    "$$\n",
    "\n",
    "which should be contrasted with their [**convolution**](https://www.wikiwand.com/en/Convolution),\n",
    "\n",
    "$$\n",
    "\\begin{equation}\n",
    "f * g ~(t) = \\int_{-\\infty}^{\\infty} f(\\tau) g(t-\\tau) ~d\\tau.\n",
    "\\end{equation}\n",
    "$$\n",
    "\n",
    "Here we use the same symbol with different arguments to distinguish a function from its [Fourier transform](https://www.wikiwand.com/en/Fourier_transform):\n",
    "$$\n",
    "\\begin{equation}\n",
    "f(\\omega) \\equiv \\mathcal{F} [f(t)] = \\int_{-\\infty}^{\\infty} f(t) e^{-i\\omega t} dt.\n",
    "\\end{equation}\n",
    "$$\n",
    "\n",
    "After Fourier transform, time-domain convolution becomes frequency-domain multiplication:\n",
    "\n",
    "$$\n",
    "\\begin{equation}\n",
    "\\mathcal{F} [f * g~(t)] = f(\\omega) \\cdot g(\\omega),\n",
    "\\end{equation}\n",
    "$$\n",
    "\n",
    "while time-domain correlation becomes:\n",
    "\n",
    "$$\n",
    "\\begin{equation}\n",
    "\\mathcal{F} [f \\star g ~(t)] = f^*(\\omega) \\cdot g(\\omega),\n",
    "\\end{equation}\n",
    "$$\n",
    "\n",
    "which is not commutative due to the complex conjugate $f^*(\\omega)$.\n",
    "\n",
    "## General fomulation\n",
    "\n",
    "Here we provide a general formulation for the correlation of seismograms recorded at two-receivers in the frequency domain. For the sake of simplicity, we drop $\\omega$ in the argument wherever it is clear from the context.\n",
    "\n",
    "For a ambient noise source distribution $S(\\mathbf{x_s}, \\omega)$, the seismogram recorded at receiver $\\mathbf{x_i},~i = 1, 2$ can be represented by the convolution of the source $S$ with the [Green's function](https://www.wikiwand.com/en/Green%27s_function) $G(\\mathbf{x_i}, \\mathbf{x_s}; \\omega)$ integrated over all sources:\n",
    "\n",
    "$$\n",
    "\\begin{equation}\n",
    "u_i(\\omega) = \\int S(\\mathbf{x_s}) G(\\mathbf{x_i}, \\mathbf{x_s}) ~d\\mathbf{x_s}.\n",
    "\\end{equation}\n",
    "$$\n",
    "\n",
    "In general, $u_i$ is a vector and $S(\\mathbf{x_s}), G(\\mathbf{x_i}, \\mathbf{x_s})$ are second-order [tensors](https://www.wikiwand.com/en/Tensor). Without loss of generality, we let $u_i$ denote response of a single component (e.g., one of the transverse or vertical components typically used in seismometers). The modulus of $S(\\mathbf{x_s}, \\omega)$ specifies the source strengh, while the phase of $S(\\mathbf{x_s}, \\omega)$ contains the excitation time and initial phase of the source. The Green's function $G(\\mathbf{x_i}, \\mathbf{x_s}; \\omega)$ represents the medium response at $\\mathbf{x_i}$ to an implulse source at $\\mathbf{x_s}$.\n",
    "\n",
    "Thus the correlation $C_{12}$ of two seismograms $u_1, u_2$ is\n",
    "\n",
    "$$\n",
    "\\begin{align}\n",
    "\\begin{split}\n",
    "C_{12}(\\omega) & = \\int S^*(\\mathbf{x_s}) S(\\mathbf{x_s}) G^*(\\mathbf{x_1}, \\mathbf{x_s}) G(\\mathbf{x_2}, \\mathbf{x_s}) ~d\\mathbf{x_s} \\\\\n",
    "& + \\iint\\limits_{\\mathbf{x'_s} \\ne \\mathbf{x_s}} S^*(\\mathbf{x'_s}) S(\\mathbf{x_s}) G^*(\\mathbf{x_1}, \\mathbf{x'_s}) G(\\mathbf{x_2}, \\mathbf{x_s}) ~d\\mathbf{x_s'} d\\mathbf{x_s},\n",
    "\\end{split}\n",
    "\\end{align}\n",
    "$$\n",
    "\n",
    "where the first term on the RHS denotes correlations from the same sources, while the second term on the RHS denotes correlations from different sources which is called *cross-terms*. As the cross-term becomes negligible compared to the first term after sufficient source averaging, we neglect the cross-terms. A quantitative evaluation of the relative magnitudes of the two terms can be found in [further reading](#summary).\n",
    "\n",
    "Neglecting the cross-terms yields\n",
    "\n",
    "$$\n",
    "\\begin{equation}\n",
    "C_{12} \\approx \\int |S(\\mathbf{x_s})|^2 G^*(\\mathbf{x_1}, \\mathbf{x_s}) G(\\mathbf{x_2}, \\mathbf{x_s}) ~d\\mathbf{x_s}.\n",
    "\\end{equation}\n",
    "$$\n",
    "\n",
    "As will be demonstrated in the next section, in some ideal cases $C_{12}$ can be directly linked to the Green's function $G_{12} \\equiv G(\\mathbf{x_1}, \\mathbf{x_2})$:\n",
    "\n",
    "$$\n",
    "\\begin{equation}\n",
    "C_{12} \\mathop{\\sim}\\limits^? G_{12}.\n",
    "\\end{equation}\n",
    "$$\n",
    "\n",
    "To put it simply, the correlation of \"random\" ambient noise recorded at two receivers are related to the *deterministic* response between the two receivers uncer certain assumptions. These assumptions, however, are generally not met by the real Earth. Thus, the link bewteen the correlation and the Green's function is an important insight while it is also helpful to keep in mind how the assumptions will affect the application of ambient noise interferometry.\n",
    "\n",
    "\n",
    "## 2-D analytical solution\n",
    "\n",
    "As promised above, here we provide an exact correspondence between the correlation function $C_{12}$ and the Green's function $G_{12}$ for a simplified 2-D medium as an analog for surface waves.\n",
    "\n",
    "In a 2-D homogeneous non-attenuating medium, the time-domain [Green's function](https://www.wikiwand.com/en/Green%27s_function#/Table_of_Green's_functions) is\n",
    "\n",
    "$$\n",
    "\\begin{equation}\n",
    "G(\\mathbf{x}, t) = \\frac{1}{2\\pi c^2} \\frac{H(t - \\frac{x}{c})}{\\sqrt{t^2 - \\frac{x^2}{c^2}}},\n",
    "\\end{equation}\n",
    "$$\n",
    "\n",
    "where $\\mathbf{x}$ is the position of the receiver relative to the source, $x \\equiv |\\mathbf{x}|$ is the distance between the source and the receiver, $H$ is the [Heaviside step function](https://www.wikiwand.com/en/Heaviside_step_function), and $c$ is medium speed. For brevity but without loss of generality, we set $\\mathbf{x_s} = 0$ and define $G(\\mathbf{x}, t) \\equiv G(\\mathbf{x}, \\mathbf{0}, t)$.\n",
    "\n",
    "As will be used later, it is worth noting the temporal integral of $G(t)$:\n",
    "\n",
    "$$\n",
    "\\begin{equation}\n",
    "\\int G(\\mathbf{x}, t) ~dt = \\frac{1}{2\\pi c^2} H\\left(t - \\frac{x}{c}\\right) \\ln \\frac{t + \\sqrt{t^2 - \\frac{x^2}{c^2}}} {\\frac{x}{c}} + C.\n",
    "\\end{equation}\n",
    "$$\n",
    "\n",
    "In the frequency domain, Green's function becomes\n",
    "\n",
    "$$\n",
    "\\begin{equation}\n",
    "G(\\mathbf{x}, \\omega) = -\\frac{i}{4\\sqrt{2\\pi}c^2} H_0^{(2)} \\left(\\frac{\\omega x}{c}\\right),\n",
    "\\end{equation}\n",
    "$$\n",
    "\n",
    "where $H_0^{(2)}$ is the zeroth order [Hankel function](https://www.wikiwand.com/en/Bessel_function#/Hankel_functions:_H(1)%CE%B1,_H(2)%CE%B1) of the second kind. Under far-field/high-frequency approximation, using the [asymptotic forms for the Hankel functions](https://www.wikiwand.com/en/Bessel_function#/Asymptotic_forms) yields:\n",
    "\n",
    "$$\n",
    "\\begin{equation}\n",
    "G(\\mathbf{x}, \\omega) \\approx \\frac{1}{4\\pi c^{3/2}} \\frac{e^{-i(\\frac{\\omega x}{c} + \\frac{\\pi}{4})}} {\\sqrt{\\omega x}}.\n",
    "\\end{equation}\n",
    "$$\n",
    "\n",
    "For a circular distribution of sources with the midpoint of the two receivers as center and $R$ as radius,\n",
    "![picture](./picture.png)\n",
    "we can change the variable of integration from $x_s$ to $\\theta$:\n",
    "$\\int dx_s \\rightarrow \\int_{0}^{2\\pi} d\\theta$,\n",
    "and the correlation function can be writen as\n",
    "\n",
    "$$\n",
    "\\begin{align}\n",
    "\\begin{split}\n",
    "C_{12}(\\omega) & = \\frac{1}{16 \\pi^2 c^3 \\omega} \\int |S(\\mathbf{x_s})|^2 \\frac{e^{i \\omega (x_1 - x_2) / c}} {\\sqrt{x_1 x_2}} ~d\\mathbf{x_s} \\\\\n",
    "& = \\frac{1}{16 \\pi^2 c^3 \\omega} \\int |S(\\theta)|^2 \\frac{e^{i \\omega (x_1 - x_2) / c}} {\\sqrt{x_1 x_2}} ~d\\theta \\\\\n",
    "\\end{split}\n",
    "\\end{align},\n",
    "$$\n",
    "\n",
    "with $x_1, x_2$ denoting the distances between a source from azimuth $\\theta$ and the first receiver and the second receiver, respectively:\n",
    "\n",
    "$$\n",
    "\\begin{align}\n",
    "\\begin{split}\n",
    "x_1 & = \\sqrt{(R\\cos\\theta - r)^2 + R^2 \\sin^2\\theta}, \\\\\n",
    "x_2 & = \\sqrt{(R\\cos\\theta + r)^2 + R^2 \\sin^2\\theta}, \\\\\n",
    "\\end{split}\n",
    "\\end{align}\n",
    "$$\n",
    "\n",
    "where $2r$ is the inter-receiver distance.\n",
    "\n",
    "Using [stationary phase approximation](https://www.wikiwand.com/en/Stationary_phase_approximation) (detailed derivation could be found in references in [further reading](#summary)), the dominant contribution is from sources near the receiver line, i.e., for $\\theta = 0, \\pi$:\n",
    "\n",
    "$$\n",
    "\\begin{equation}\n",
    "C_{12}(\\omega) \\approx \\frac{1}{32 \\pi^{5/2} c^{5/2} R \\sqrt{r} \\omega^{3/2}} \\left[|S(0)|^2 e^{-i\\left(\\frac{\\omega 2 r}{c} - \\frac{\\pi}{4}\\right)} + |S(\\pi)|^2 e^{i\\left(\\frac{\\omega 2 r}{c} - \\frac{\\pi}{4}\\right)}\\right].\n",
    "\\end{equation}\n",
    "$$\n",
    "\n",
    "The exponential terms are recognized as frequncy-domain Green's function and its complex conjugate:\n",
    "\n",
    "$$\n",
    "\\begin{equation}\n",
    "C_{12}(\\omega) = \\frac{1}{i4\\sqrt{2}\\pi^{3/2} c R \\omega} [-|S(0)|^2 G_{12}(\\omega) + |S(\\pi)|^2 G_{12}^*(\\omega)].\n",
    "\\end{equation}\n",
    "$$\n",
    "\n",
    "If the source distribution is symmetric, then $|S(\\pi)| = |S(0)| \\equiv |A|$. Thus, neglecting the constants yields\n",
    "\n",
    "$$\n",
    "\\begin{equation}\n",
    "C_{12}(\\omega) \\propto \\frac{|A|^2}{i\\omega c R} [-G_{12}(\\omega) + G_{12}^*(\\omega)],\n",
    "\\end{equation}\n",
    "$$\n",
    "\n",
    "which in time-domain becomes\n",
    "\n",
    "$$\n",
    "\\begin{equation}\n",
    "\\frac{\\partial}{\\partial t} C_{12}(t) \\propto \\frac{|A|^2}{c R}[-G_{12}(t) + G_{12}(-t)],\n",
    "\\end{equation}\n",
    "$$\n",
    "\n",
    "which says that the positive (or causal) lag of the time derivative of the correlation between the two receivers, $\\frac{\\partial}{\\partial t} C_{12}(t), t \\ge 0$, corresponds to the medium response recorded at the first receiver as if an impulse source is placed at the second receiver, $- G_{12}(t)$, while the negative (or acausal) lag of the time derivative of the correlation, $\\frac{\\partial}{\\partial t} C_{12}(t), t < 0$, corresponds to the medium response recorded at the second receiver as if an impulse source is placed at the first receiver, $G_{21}(-t)$.\n",
    "\n",
    "To avoid numerical errors from taking derivative of $C_{12}(t)$, we compare $C_{12}(t)$ with $-\\int G_{12}(t) ~dt + \\int G_{12}(-t) ~dt$. Because $\\frac{\\partial}{\\partial t} C_{12}(t)$ is antisymmetric with respect to $t = 0$, $C_{12}(t)$ is symmetric."
   ]
  },
  {
   "cell_type": "markdown",
   "metadata": {
    "heading_collapsed": true
   },
   "source": [
    "## Exercise"
   ]
  },
  {
   "cell_type": "markdown",
   "metadata": {
    "hidden": true
   },
   "source": [
    "- Prove the frequency domain expression of correlation: $\n",
    "\\mathcal{F} [f \\star g ~(t)] = f^*(\\omega) \\cdot g(\\omega)$."
   ]
  },
  {
   "cell_type": "markdown",
   "metadata": {
    "hidden": true
   },
   "source": []
  },
  {
   "cell_type": "markdown",
   "metadata": {
    "hidden": true
   },
   "source": [
    "- Prove that correlation is a linear operator, i.e., (1) for functions $f, g, h$, show $f \\star (g + h) = f \\star g + f \\star h$; (2) for any scalar $c$, show $f \\star cg = c(f \\star g)$. (implication for superposition of sources)"
   ]
  },
  {
   "cell_type": "markdown",
   "metadata": {
    "hidden": true
   },
   "source": []
  },
  {
   "cell_type": "markdown",
   "metadata": {
    "hidden": true
   },
   "source": [
    "- Prove that the correlation field between a fixed location and all other locations still satisfies the wave equation. Specifically, let $u_0$ denotes the seismogram at a fixed location $x_0$ and $u_i$ the seismogram at location $x_i$, both satisfying the wave equation\n",
    "$$\n",
    "Lu = 0,\n",
    "$$\n",
    "where $L = \\partial_{tt} - c^2\\Delta$. Show that $L(u_0 \\star u_i) = 0$."
   ]
  },
  {
   "cell_type": "markdown",
   "metadata": {
    "hidden": true
   },
   "source": []
  },
  {
   "cell_type": "markdown",
   "metadata": {},
   "source": [
    "# Numerical experiments"
   ]
  },
  {
   "cell_type": "markdown",
   "metadata": {},
   "source": [
    "Here we set default input parameters for the following numerical experiments. In most exercises, you are asked to change the input parameters and to analyze effects caused by the change."
   ]
  },
  {
   "cell_type": "code",
   "execution_count": null,
   "metadata": {},
   "outputs": [],
   "source": [
    "# Source azimuthal interval\n",
    "dtheta = np.pi / 3000\n",
    "# Source azimuths\n",
    "theta = np.arange(0, 2*np.pi, dtheta)\n",
    "# Number of sources\n",
    "nsrc = theta.size\n",
    "# Sampling rate (s)\n",
    "delta = .1\n",
    "# Shift source wavelt for convolution (s)\n",
    "shift = 20\n",
    "# Time length (s)\n",
    "tmax = 300\n",
    "\n",
    "default_parameters = {\n",
    "    # Record time (s)\n",
    "    'time': np.arange(0, tmax, delta),\n",
    "    # Amplitude of sources in different azimuths\n",
    "    'source_amplitude': np.ones(nsrc),\n",
    "#     # Excitation times of sources\n",
    "#     'source_time': np.zeros(nsrc) + shift,\n",
    "    'shift': shift,\n",
    "    'source_azimuth': theta,\n",
    "    # km\n",
    "    'source_radius': 400,\n",
    "    # Source wavelet\n",
    "    'source_func': ricker,\n",
    "    # Green's function\n",
    "    'gf_func': green_function_2d,\n",
    "    # Medium speed vs. azimuth (km/s)\n",
    "    'c': 3 * np.ones(nsrc),\n",
    "    # Speed between receivers (km/s)\n",
    "    'c_receiver': 3,\n",
    "    # km\n",
    "    'receiver_location_1': -100,\n",
    "    'receiver_location_2': 100,\n",
    "}"
   ]
  },
  {
   "cell_type": "code",
   "execution_count": null,
   "metadata": {},
   "outputs": [],
   "source": [
    "default_parameters"
   ]
  },
  {
   "cell_type": "markdown",
   "metadata": {},
   "source": [
    "## Effects of spatial source distribution\n",
    "\n",
    "Our derivation above provides an exact correspondence between the correlation function and the Green's function under certain assumptions in 2-D. In this section, we check numerically whether the exact relation is valid. Moreover, we experiment on how the spatial distribution of sources will change the resultant interferograms mostly by varing $S(\\theta)$. "
   ]
  },
  {
   "cell_type": "markdown",
   "metadata": {
    "heading_collapsed": true
   },
   "source": [
    "### A single source"
   ]
  },
  {
   "cell_type": "markdown",
   "metadata": {
    "hidden": true
   },
   "source": [
    "- To get a sense of what the correlation operator does, let's consider two receivers with only one source, and both the receivers and the source are distributed along a straight line. First, let's make a schematic of the source-receiver geometry. "
   ]
  },
  {
   "cell_type": "code",
   "execution_count": null,
   "metadata": {
    "hidden": true
   },
   "outputs": [],
   "source": [
    "r1 = 0\n",
    "r2 = 1\n",
    "rs = 4\n",
    "\n",
    "fig, ax = plt.subplots(figsize=(3, 1))\n",
    "ax.axhline(0, c='k', zorder=-1)\n",
    "s = 100\n",
    "ax.scatter(rs, 0, s, marker='*', c='r')\n",
    "for k, r in enumerate([r1, r2], 1):\n",
    "    ax.scatter(r, 0, s, marker='^', c='b')\n",
    "    ax.text(r, -0.02, fr'$r_{k}$')\n",
    "ax.axis('off')"
   ]
  },
  {
   "cell_type": "markdown",
   "metadata": {
    "hidden": true
   },
   "source": [
    "- Assume the source is a Ricker wavelet, and correlate the responses at the two receivers. As expected, the correlation can extract the travel time difference between the two responses."
   ]
  },
  {
   "cell_type": "code",
   "execution_count": null,
   "metadata": {
    "hidden": true
   },
   "outputs": [],
   "source": [
    "t1 = (rs - r1) * 20\n",
    "t2 = (rs - r2) * 20\n",
    "t = np.linspace(0, 100, 1000)\n",
    "\n",
    "\n",
    "u1 = ricker(t, t1, fc=.1)\n",
    "u2 = ricker(t, t2, fc=.1)\n",
    "corr = correlate(u1, u2, 'full')\n",
    "\n",
    "\n",
    "fig, (ax1, ax2, ax3) = plt.subplots(3, 1, figsize=(8, 6),\n",
    "                                    gridspec_kw={'hspace': .3})\n",
    "kwargs = {'c': 'k', 'lw': 2}\n",
    "ax1.plot(t, u1, **kwargs)\n",
    "ax2.plot(t, u2, **kwargs)\n",
    "ax3.plot(time_xc(t), normalize(corr), **{**kwargs, **{'c': 'r'}})\n",
    "_x = int(t.max()/2)\n",
    "ax3.set_xlim(-_x, _x)\n",
    "ax3.set_xlabel('Time (s)')\n",
    "fig.text(0.02, .5, 'Normalized amplitude', rotation='vertical', ha='center', va='center', fontsize=20)\n",
    "\n",
    "for ax, txt in zip(fig.axes, [r'$u_1$', r'$u_2$', r'$u_1 \\star u_2$']):\n",
    "    ax.text(.05, .8, txt, fontsize=20, transform=ax.transAxes)\n",
    "    ax.axhline(0, c='k', lw=.5)\n",
    "    ax.set_ylim(-1.1, 1.1)\n",
    "for ax in [ax1, ax2]:\n",
    "    ax.set_xlim(0, t.max())"
   ]
  },
  {
   "cell_type": "markdown",
   "metadata": {},
   "source": [
    "### Circular and isotropic sources"
   ]
  },
  {
   "cell_type": "markdown",
   "metadata": {},
   "source": [
    "- Now, let's generalize the above case to a circular distribution of sources with isotropic strengths. First, let's visualize the source-receiver geometry, souce amplitudes and medium speed versus azimuth."
   ]
  },
  {
   "cell_type": "code",
   "execution_count": null,
   "metadata": {},
   "outputs": [],
   "source": [
    "params = deepcopy(default_parameters)\n",
    "# params['source_amplitude'] += .1 * np.random.rand(params['source_azimuth'].size)\n",
    "plt_input(**params)\n",
    "#plt.savefig('./1.png',dpi=(1000))"
   ]
  },
  {
   "cell_type": "markdown",
   "metadata": {},
   "source": [
    "- Then, let's compute responses at each receiver for each source, correlate the responses at the two receivers, and compare the stack of correlations with the true response between the two receivers. The true response is calculated by putting a source at one receiver and computing its response at another receiver."
   ]
  },
  {
   "cell_type": "code",
   "execution_count": null,
   "metadata": {},
   "outputs": [],
   "source": [
    "_, _, displacement_1, _, displacement_2 = get_displacement_from_sources(**params)\n",
    "correlogram_12 = cross_correlation(displacement_1, displacement_2)\n",
    "true_displacement_12 = ground_truth(**params)\n",
    "\n",
    "# Tip: Try a larger `step` if the plotting takes too long\n",
    "plt_waveform(displacement_1, displacement_2, correlogram_12, true_displacement_12, step=100, **params)"
   ]
  },
  {
   "cell_type": "markdown",
   "metadata": {},
   "source": [
    "- The third column shows at least two remakrable features. First, the dominant contributions to the stacked correlations are from sources near $0^\\circ$ and $180^\\circ$ while sources from other azimuths tend to destructively interfere or cancel each other. We loosely refer to those sources near the receiver line as lying in the stationary phase zones. Second, sources closer to the first receiver contribute to the negative or acausal lag of the correlation, while sources closer to the second receiver contribute to the positive or causal lag of the correlation."
   ]
  },
  {
   "cell_type": "markdown",
   "metadata": {
    "heading_collapsed": true
   },
   "source": [
    "### Strong localized sources"
   ]
  },
  {
   "cell_type": "markdown",
   "metadata": {
    "hidden": true
   },
   "source": [
    "- In reality, sources strengths are generally anisotropic. For instance, tectonic earthquakes can be localized strong sources. In addition, there may be storms in the oceans producing strong microseisms. Now, let's see what happened if the source amplitudes are mostly isotropic but is particularly strong from a narrow azimuth (e.g., due to an earthquake). First, let's change `source_amplitude` and visulize the change."
   ]
  },
  {
   "cell_type": "code",
   "execution_count": null,
   "metadata": {
    "hidden": true
   },
   "outputs": [],
   "source": [
    "params = deepcopy(default_parameters)\n",
    "idx = (params['source_azimuth'] > np.deg2rad(45)) & (params['source_azimuth'] < np.deg2rad(50))\n",
    "params['source_amplitude'][idx] *= 5\n",
    "plt_input(**params)"
   ]
  },
  {
   "cell_type": "markdown",
   "metadata": {
    "hidden": true
   },
   "source": [
    "- Then, let's see how this will affect interferograms. \n",
    "<a id='strong'></a>"
   ]
  },
  {
   "cell_type": "code",
   "execution_count": null,
   "metadata": {
    "hidden": true
   },
   "outputs": [],
   "source": [
    "_, _, displacement_1, _, displacement_2 = get_displacement_from_sources(**params)\n",
    "correlogram_12 = cross_correlation(displacement_1, displacement_2)\n",
    "true_displacement_12 = ground_truth(**params)\n",
    "\n",
    "# Tip: Try a larger `step` if the plotting takes too long\n",
    "plt_waveform(displacement_1, displacement_2, correlogram_12, true_displacement_12, step=100, **params)"
   ]
  },
  {
   "cell_type": "markdown",
   "metadata": {
    "hidden": true
   },
   "source": [
    "[Pre-processing](#processing) & [After one-bit](#one_bit)"
   ]
  },
  {
   "cell_type": "markdown",
   "metadata": {
    "heading_collapsed": true
   },
   "source": [
    "### Exercise: Stack sources within the stationary phase zone only"
   ]
  },
  {
   "cell_type": "markdown",
   "metadata": {
    "hidden": true
   },
   "source": [
    "- From above, it is worth noting that the dominant contribution to the stacked correlations is from sources near the receiver line (or lying in the stationary phase zones). In this exercise, let's see what if we only use those sources in the stationary phase zones, i.e., redefine `source_azimuth` to include sources only around $0^\\circ$ and $180^\\circ$."
   ]
  },
  {
   "cell_type": "code",
   "execution_count": null,
   "metadata": {
    "hidden": true
   },
   "outputs": [],
   "source": [
    "params = deepcopy(default_parameters)\n",
    "### Your code here\n",
    "# params['source_azimuth'] = \n",
    "params['source_azimuth'] = np.linspace(-np.pi/10, np.pi/10, 100)\n",
    "###\n",
    "params['source_amplitude'] = np.ones(params['source_azimuth'].shape)\n",
    "params['c'] = 3 * np.ones(params['source_azimuth'].shape)\n",
    "\n",
    "plt_input(**params)"
   ]
  },
  {
   "cell_type": "markdown",
   "metadata": {
    "hidden": true
   },
   "source": [
    "- Then, let's compute correlations and compare with ground truth."
   ]
  },
  {
   "cell_type": "code",
   "execution_count": null,
   "metadata": {
    "hidden": true
   },
   "outputs": [],
   "source": [
    "_, _, displacement_1, _, displacement_2 = get_displacement_from_sources(**params)\n",
    "correlogram_12 = cross_correlation(displacement_1, displacement_2)\n",
    "true_displacement_12 = ground_truth(**params)\n",
    "\n",
    "# Tip: Try a larger `step` if the plotting takes too long\n",
    "plt_waveform(displacement_1, displacement_2, correlogram_12, true_displacement_12, step=10, **params)"
   ]
  },
  {
   "cell_type": "markdown",
   "metadata": {
    "hidden": true
   },
   "source": [
    "- What happens when you increase or decrease the azimuthal coverage of source distribution? In particular, what if only one source is used?"
   ]
  },
  {
   "cell_type": "markdown",
   "metadata": {
    "hidden": true
   },
   "source": []
  },
  {
   "cell_type": "markdown",
   "metadata": {
    "heading_collapsed": true
   },
   "source": [
    "### Exercise: DIY anisotropic source distributions"
   ]
  },
  {
   "cell_type": "markdown",
   "metadata": {
    "hidden": true
   },
   "source": [
    "- From the [Strong localized sources]() section, we have seen that the arrival comes earlier than ground truth. In this exercise, let's DIY your own anisotropic source distributions!"
   ]
  },
  {
   "cell_type": "code",
   "execution_count": null,
   "metadata": {
    "hidden": true
   },
   "outputs": [],
   "source": [
    "params = deepcopy(default_parameters)\n",
    "### Begin your code\n",
    "#idx = (params['source_azimuth'] > np.deg2rad(...)) & (params['source_azimuth'] < np.deg2rad(...))\n",
    "#params['source_amplitude'][idx] *= ...\n",
    "idx = (params['source_azimuth'] > np.deg2rad(125)) & (params['source_azimuth'] < np.deg2rad(130))\n",
    "params['source_amplitude'][idx] *= 5\n",
    "### End your code\n",
    "plt_input(**params)"
   ]
  },
  {
   "cell_type": "markdown",
   "metadata": {
    "hidden": true
   },
   "source": [
    "- Then, let's compute correlations and compare with ground truth."
   ]
  },
  {
   "cell_type": "code",
   "execution_count": null,
   "metadata": {
    "hidden": true
   },
   "outputs": [],
   "source": [
    "_, _, displacement_1, _, displacement_2 = get_displacement_from_sources(**params)\n",
    "correlogram_12 = cross_correlation(displacement_1, displacement_2)\n",
    "true_displacement_12 = ground_truth(**params)\n",
    "\n",
    "# Tip: Try a larger `step` if the plotting takes too long\n",
    "plt_waveform(displacement_1, displacement_2, correlogram_12, true_displacement_12, step=10, **params)"
   ]
  },
  {
   "cell_type": "markdown",
   "metadata": {
    "hidden": true
   },
   "source": [
    "- How to reduce the impact of uneven distribution of sources？"
   ]
  },
  {
   "cell_type": "markdown",
   "metadata": {
    "hidden": true
   },
   "source": []
  },
  {
   "cell_type": "markdown",
   "metadata": {
    "heading_collapsed": true
   },
   "source": [
    "### Exercise: Near-field sources"
   ]
  },
  {
   "cell_type": "markdown",
   "metadata": {
    "hidden": true
   },
   "source": [
    "- So far, we've been talking about far-field sources. In reality, sources are not necessarily far from the receivers. For example, there might be strong sources from the ocean between two receivers in different continents. Here we change the `sourece_radius` to make a near-field scenario."
   ]
  },
  {
   "cell_type": "code",
   "execution_count": null,
   "metadata": {
    "hidden": true
   },
   "outputs": [],
   "source": [
    "params = deepcopy(default_parameters)\n",
    "### Begin your code\n",
    "#params['source_radius'] = ...\n",
    "params['source_radius'] = 30\n",
    "### End your code\n",
    "params['source_amplitude'] = np.ones(params['source_azimuth'].shape)\n",
    "params['c'] = 3 * np.ones(params['source_azimuth'].shape)\n",
    "\n",
    "plt_input(**params)"
   ]
  },
  {
   "cell_type": "markdown",
   "metadata": {
    "hidden": true
   },
   "source": [
    "- Then, let's compute correlations and compare with ground truth."
   ]
  },
  {
   "cell_type": "code",
   "execution_count": null,
   "metadata": {
    "hidden": true
   },
   "outputs": [],
   "source": [
    "_, _, displacement_1, _, displacement_2 = get_displacement_from_sources(**params)\n",
    "correlogram_12 = cross_correlation(displacement_1, displacement_2)\n",
    "true_displacement_12 = ground_truth(**params)\n",
    "\n",
    "# Tip: Try a larger `step` if the plotting takes too long\n",
    "plt_waveform(displacement_1, displacement_2, correlogram_12, true_displacement_12, step=10, **params)"
   ]
  },
  {
   "cell_type": "markdown",
   "metadata": {
    "hidden": true
   },
   "source": [
    "- How to explain what you observe? What scenario might it correspond to for the real Earth?"
   ]
  },
  {
   "cell_type": "markdown",
   "metadata": {
    "hidden": true
   },
   "source": []
  },
  {
   "cell_type": "markdown",
   "metadata": {
    "heading_collapsed": true
   },
   "source": [
    "## Effects of (pre)processing\n",
    "<a id='processing'></a>\n",
    "\n",
    "As [illustrated in the examples of the last section](#strong), the interferogram due to uneven source distributions might not be simply related to the Green's function between the receivers. Ideally, one would wish to resolve the source distribution and the struture simutaneously. In practice, however, this is a non-trivial task. A workaround, especially when one is mostly caring about phase information (in contrast to amplitudes or waveforms) for structural studies, is to preprocess the raw data to produce an *effective* source distribution that alleviates influence from uneven source distributions.\n",
    "\n",
    "Processing of raw data will be discussed in detail in the next tutorial. Thus here we only focus on one specific method."
   ]
  },
  {
   "cell_type": "markdown",
   "metadata": {
    "hidden": true
   },
   "source": [
    "### One-bit"
   ]
  },
  {
   "cell_type": "markdown",
   "metadata": {
    "hidden": true
   },
   "source": [
    "- An intuitive idea is to somehow normalize the amplitudes so that strong localized sources are weighed down. One possible approach is to totally discard the amplitudes and use the signs of the time series instead:\n",
    "$$\n",
    "\\text{sgn}(u(t)) :=\n",
    "\\begin{cases}\n",
    "-1 & \\text{if } u < 0, \\\\\n",
    "0 & \\text{if } u = 0, \\\\\n",
    "1 & \\text{if } u > 0. \\\\\n",
    "\\end{cases}\n",
    "$$\n",
    "Because of numerical errors, a `threshold` is set for our experiments."
   ]
  },
  {
   "cell_type": "code",
   "execution_count": null,
   "metadata": {
    "hidden": true
   },
   "outputs": [],
   "source": [
    "def one_bit(a, threshold=1e-1):\n",
    "    b = np.zeros(a.shape)\n",
    "    tmp = normalize(a)\n",
    "    b[tmp > threshold] = 1\n",
    "    b[tmp < -threshold] = -1\n",
    "    \n",
    "    return b"
   ]
  },
  {
   "cell_type": "markdown",
   "metadata": {
    "hidden": true
   },
   "source": [
    "- Let's reconsider the case for strong localize sources."
   ]
  },
  {
   "cell_type": "code",
   "execution_count": null,
   "metadata": {
    "hidden": true
   },
   "outputs": [],
   "source": [
    "params = deepcopy(default_parameters)\n",
    "idx = (params['source_azimuth'] > np.deg2rad(45)) & (params['source_azimuth'] < np.deg2rad(50))\n",
    "params['source_amplitude'][idx] *= 5\n",
    "stf, gf1, u1, gf2, u2 = get_displacement_from_sources(**params)\n",
    "\n",
    "plt_input(**params)"
   ]
  },
  {
   "cell_type": "markdown",
   "metadata": {
    "hidden": true
   },
   "source": [
    "- Let's compare the raw waveforms with those after applying one-bit (taking signs)."
   ]
  },
  {
   "cell_type": "code",
   "execution_count": null,
   "metadata": {
    "hidden": true
   },
   "outputs": [],
   "source": [
    "threshold = 0.05\n",
    "idx = 0\n",
    "\n",
    "plt_processing(u1[idx], one_bit(u1[idx]), threshold, **params)"
   ]
  },
  {
   "cell_type": "code",
   "execution_count": null,
   "metadata": {
    "hidden": true
   },
   "outputs": [],
   "source": [
    "u1_sign = one_bit(u1, threshold=threshold)\n",
    "u2_sign = one_bit(u2, threshold=threshold)\n",
    "xc = cross_correlation(u1_sign, u2_sign)\n",
    "direct = ground_truth(**params)\n",
    "\n",
    "plt_waveform(u1_sign, u2_sign, xc, direct, **params)"
   ]
  },
  {
   "cell_type": "markdown",
   "metadata": {
    "hidden": true
   },
   "source": [
    "- How does the results compare with the [examples above](#strong)?\n",
    "<a id='one_bit'></a>"
   ]
  },
  {
   "cell_type": "markdown",
   "metadata": {
    "hidden": true
   },
   "source": [
    "### Exercise: Tune one-bit threshold"
   ]
  },
  {
   "cell_type": "markdown",
   "metadata": {
    "hidden": true
   },
   "source": [
    "- In this exercise, let's investigate the effects of different thresholds in one-bit. Here we use the original strong localize sources model."
   ]
  },
  {
   "cell_type": "code",
   "execution_count": null,
   "metadata": {
    "hidden": true
   },
   "outputs": [],
   "source": [
    "params = deepcopy(default_parameters)\n",
    "idx = (params['source_azimuth'] > np.deg2rad(45)) & (params['source_azimuth'] < np.deg2rad(50))\n",
    "params['source_amplitude'][idx] *= 5\n",
    "stf, gf1, u1, gf2, u2 = get_displacement_from_sources(**params)\n",
    "\n",
    "plt_input(**params)"
   ]
  },
  {
   "cell_type": "markdown",
   "metadata": {
    "hidden": true
   },
   "source": [
    "- Now change the `threshold` in one-bit."
   ]
  },
  {
   "cell_type": "code",
   "execution_count": null,
   "metadata": {
    "hidden": true
   },
   "outputs": [],
   "source": [
    "### Begin your code\n",
    "#threshold = \n",
    "threshold = 0.01\n",
    "### End your code\n",
    "idx=0\n",
    "plt_processing(u1[idx], one_bit(u1[idx], threshold), threshold, **params)"
   ]
  },
  {
   "cell_type": "markdown",
   "metadata": {
    "hidden": true
   },
   "source": [
    "- Let's compute correlations after new ont-bit and compare with ground truth. "
   ]
  },
  {
   "cell_type": "code",
   "execution_count": null,
   "metadata": {
    "hidden": true
   },
   "outputs": [],
   "source": [
    "u1_sign = one_bit(u1, threshold=threshold)\n",
    "u2_sign = one_bit(u2, threshold=threshold)\n",
    "xc = cross_correlation(u1_sign, u2_sign)\n",
    "direct = ground_truth(**params)\n",
    "\n",
    "plt_waveform(u1_sign, u2_sign, xc, direct, **params)"
   ]
  },
  {
   "cell_type": "markdown",
   "metadata": {
    "hidden": true
   },
   "source": [
    "- How do you explain the difference using different `threshold`? How do you think the `threshold` should be chosen？"
   ]
  },
  {
   "cell_type": "markdown",
   "metadata": {
    "heading_collapsed": true
   },
   "source": [
    "## Effects of structure\n",
    "\n",
    "Our examples above assume the medium to be homogeneous, isotropic and elastic. The real Earth, however, is heterogeneous, anisotropic and anelastic. The medium complexity can affect interferometric results that are challenging to separate from the effects caused by source distributions. Thus it is helpful to keep in mind the source-structure trade-off even when one is only interested in either the source or the structure."
   ]
  },
  {
   "cell_type": "markdown",
   "metadata": {
    "hidden": true
   },
   "source": [
    "### Azimuthal anisotropic speed\n",
    "\n",
    "- Here we will show azimuthally anisotropic medium speeds can produce effects on interferograms similar to the effects from anisotropic source distribution. In general, Earth materials exhibit even degrees of azimuthal anisotropy:\n",
    "$$\n",
    "c(\\theta) = c_0 \\left(1 + \\sum\\limits_{k=2, 4, \\cdots} A_k \\cos k(\\theta - \\theta_k) \\right),\n",
    "$$\n",
    "where $c_0$ is the isotropic speed, $k$ is the degree, $A_k$ is the anisotropy amplitude, and $\\theta_k$ is the fast azimuth."
   ]
  },
  {
   "cell_type": "code",
   "execution_count": null,
   "metadata": {
    "hidden": true
   },
   "outputs": [],
   "source": [
    "def anisotropic_speed(theta, frequency=[2], amplitude=[20], fast_azimuth=[0], c0=3):\n",
    "    \"\"\"\n",
    "    :param amplitude: %\n",
    "    \"\"\"\n",
    "    frequency = np.asarray(frequency)\n",
    "    amplitude = np.asarray(amplitude) / 100\n",
    "    fast_azimuth = np.asarray(fast_azimuth)\n",
    "    \n",
    "    ani = 1\n",
    "    for k, amp, azi in zip(frequency, amplitude, fast_azimuth):\n",
    "        ani += amp * np.cos(k * np.deg2rad(theta-azi))\n",
    "        \n",
    "    return c0 * ani"
   ]
  },
  {
   "cell_type": "markdown",
   "metadata": {
    "hidden": true
   },
   "source": [
    "- Let's consider isotropic souce distribution but anisotropic speed."
   ]
  },
  {
   "cell_type": "code",
   "execution_count": null,
   "metadata": {
    "hidden": true
   },
   "outputs": [],
   "source": [
    "params = deepcopy(default_parameters)\n",
    "c_ani = anisotropic_speed(np.rad2deg(params['source_azimuth']), [2, 4], [20, 10], [0, 0])\n",
    "# c_ani = anisotropic_speed(np.rad2deg(params['source_azimuth']), [4], [20], [0])\n",
    "params['c'][50:300] = c_ani[50:300]\n",
    "# params['c'] = c_ani\n",
    "# Make sure the speed between receivers is correct\n",
    "# params['c_receiver'] = c_ani[-1]\n",
    "params['c_receiver'] = 3\n",
    "plt_input(**params)"
   ]
  },
  {
   "cell_type": "markdown",
   "metadata": {
    "hidden": true
   },
   "source": [
    "- Then, let's compute correlations and compare with ground truth."
   ]
  },
  {
   "cell_type": "code",
   "execution_count": null,
   "metadata": {
    "hidden": true
   },
   "outputs": [],
   "source": [
    "_, _, displacement_1, _, displacement_2 = get_displacement_from_sources(**params)\n",
    "correlogram_12 = cross_correlation(displacement_1, displacement_2)\n",
    "true_displacement_12 = ground_truth(**params)\n",
    "\n",
    "# Tip: Try a larger `step` if the plotting takes too long\n",
    "plt_waveform(displacement_1, displacement_2, correlogram_12, true_displacement_12, step=10, **params)"
   ]
  },
  {
   "cell_type": "markdown",
   "metadata": {
    "hidden": true
   },
   "source": [
    "- How are the correlation results from anisotropic speed and anisotropic source distribution similar to or different from one another? What are possible ways to isolate the effects from anisotropic speed versus anisotropic source distribution?"
   ]
  },
  {
   "cell_type": "markdown",
   "metadata": {
    "hidden": true
   },
   "source": [
    "### Exercise: DIY azimuthal anisotropic speed"
   ]
  },
  {
   "cell_type": "markdown",
   "metadata": {
    "hidden": true
   },
   "source": [
    "- In this exercise, let's consider different azimuthal anisotropy in speed."
   ]
  },
  {
   "cell_type": "code",
   "execution_count": null,
   "metadata": {
    "hidden": true
   },
   "outputs": [],
   "source": [
    "params = deepcopy(default_parameters)\n",
    "### Begin your code\n",
    "#params['c'] = ...\n",
    "#params['c_receiver'] = ...\n",
    "params['c'][250:500] = c_ani[50:300]\n",
    "params['c_receiver'] = 2\n",
    "### End your code\n",
    "plt_input(**params)"
   ]
  },
  {
   "cell_type": "markdown",
   "metadata": {
    "hidden": true
   },
   "source": [
    "- Then, let's compute correlations and compare with ground truth."
   ]
  },
  {
   "cell_type": "code",
   "execution_count": null,
   "metadata": {
    "hidden": true
   },
   "outputs": [],
   "source": [
    "_, _, displacement_1, _, displacement_2 = get_displacement_from_sources(**params)\n",
    "correlogram_12 = cross_correlation(displacement_1, displacement_2)\n",
    "true_displacement_12 = ground_truth(**params)\n",
    "\n",
    "# Tip: Try a larger `step` if the plotting takes too long\n",
    "plt_waveform(displacement_1, displacement_2, correlogram_12, true_displacement_12, step=10, **params)"
   ]
  },
  {
   "cell_type": "markdown",
   "metadata": {
    "hidden": true
   },
   "source": [
    "- When you change the functional form of anisotropic speed or where the speed is anisotropic, what happens in the correlation results？Do you have good ideas about using these observations to infer properties about the structure?"
   ]
  },
  {
   "cell_type": "markdown",
   "metadata": {},
   "source": [
    "# Summary & Further reading\n",
    "<a id='summary'></a>"
   ]
  },
  {
   "cell_type": "markdown",
   "metadata": {},
   "source": [
    "The experiments above about the effects of source distributions, processing, and medium properties on correlation results are designed to help you understand why ambient noise interferometry may or may not work in real data, which will be done in the following tutorials. The experiments are pedagogical and sometimes make unrealistic simplifications. There are at least four important aspects neglected in the experiments.\n",
    "- We mostly ignore heterogeneities or scattering of the medium. In fact, using correlations of earthquake coda waves to extract medium response was done quite early by [Campillo & Paul, 2003](https://doi.org/10.1126/science.1078551).\n",
    "- Our medium is 2-D and we mostly think about surface waves. However, body waves are also possible to extract from ambient noise interferometry although more challenging in general.\n",
    "- We assume sufficient temporal aveaging and ignore the cross-terms from different sources. In practice, this is one of the major reasons why a relatively long time of record is preferred (e.g., monthly or yearly).\n",
    "- Surfaces waves are dispersive while we essentially consider a single-frequency wave. In the real Earth, both source characteristics (e.g., location, strength) and medium properties (e.g., isotropic and anisotropic speeds) usually exhibit frequency dependence.\n",
    "\n",
    "Below is a list of references pertaining to this tutorial but are probably biased and certainly incomprehensive.\n",
    "\n",
    "- [Snieder, 2004](https://doi.org/10.1103/PhysRevE.69.046610) first introduced stationary phase approixmation to obtain analytical solutions. [Boschi & Weemstra, 2013](http://doi.org/10.1002/2014RG000455) provides a review of applying stationary phase approximation to various source distributions in 2-D and 3-D, and also a brief overview of other theories such as those based on plane waves or representation theorems.\n",
    "- [Tsai, 2009](http://doi.org/10.1111/j.1365-246X.2009.04239.x) and [Yao & van der Hilst, 2009](https://doi.org/10.1111/j.1365-246X.2009.04329.x) provide numerical experiments to investigate the effects of source distribution and medium complexities.\n",
    "- Some review papers and books on seismic interferometry include [Snieder & Larose, 2013](http://doi.org/10.1146/annurev-earth-050212-123936), [Campillo & Roux, 2015](http://doi.org/10.1016/B978-0-444-53802-4.00024-5), [Nakata, Gualtieri, Fichtner, 2019](https://www.cambridge.org/gb/academic/subjects/earth-and-environmental-science/solid-earth-geophysics/seismic-ambient-noise?format=HB&isbn=9781108417082)."
   ]
  },
  {
   "cell_type": "markdown",
   "metadata": {},
   "source": [
    "# Feedback"
   ]
  },
  {
   "cell_type": "markdown",
   "metadata": {},
   "source": [
    "- Any feedback on this tutorial or the summer school in general is appreciated. It is optional but encouraged to leave your comment below."
   ]
  },
  {
   "cell_type": "markdown",
   "metadata": {},
   "source": []
  },
  {
   "cell_type": "markdown",
   "metadata": {},
   "source": [
    "# Helper function\n",
    "<a id='helper'></a>"
   ]
  },
  {
   "cell_type": "code",
   "execution_count": null,
   "metadata": {},
   "outputs": [],
   "source": [
    "def green_function_2d(time, distance, speed=3):\n",
    "    \"\"\"\n",
    "    2-D Green's function.\n",
    "    \n",
    "    :param time: Time range (s)\n",
    "    :param distance: Source-receiver distance (km)\n",
    "    :param speed: Medium speed between the source and the receiver (km/s)\n",
    "    \"\"\"\n",
    "    t_arrival = distance / speed\n",
    "    green_function = np.heaviside(time - t_arrival, 0)\n",
    "    idx = time > t_arrival\n",
    "    green_function[idx] /= np.sqrt(time[idx]**2 - t_arrival**2)\n",
    "    \n",
    "    return green_function\n",
    "\n",
    "def green_function_2d_integral(time, distance, speed=3):\n",
    "    \"\"\"\n",
    "    Integral of 2-D Green's function.\n",
    "    \n",
    "    :param time: Time range (s)\n",
    "    :param distance: Source-receiver distance (km)\n",
    "    :param speed: Medium speed between the source and the receiver (km/s)\n",
    "    \"\"\"\n",
    "    t_arrival = distance / speed\n",
    "    green_function_integral = np.heaviside(time - t_arrival, 0)\n",
    "    idx = time > t_arrival\n",
    "    green_function_integral[idx] = np.log((time[idx] + np.sqrt(time[idx]**2 - t_arrival**2)) / t_arrival)\n",
    "    \n",
    "    return green_function_integral\n",
    "\n",
    "def ricker(t, t0=0, fc=.1, **kwargs):\n",
    "    \"\"\"\n",
    "    Ricker wavelet function.\n",
    "    \n",
    "    :param t: Time range (s)\n",
    "    :param t0: Initial time (s)\n",
    "    :fc: Frequency (Hz)\n",
    "    \"\"\"\n",
    "    tc = t - t0\n",
    "    tmp = (np.pi * fc * tc)**2\n",
    "    return (1 - 2*tmp) * np.exp(-tmp)\n",
    "\n",
    "def normalize(a, axis=1):\n",
    "    \"\"\"\n",
    "    Normalize function.\n",
    "    \n",
    "    :param a: A sequence that requires normalization \n",
    "    :param axis: Dimensionality（axis=0:Find the maximum value for each column，axis=1:Find the maximum value for each row）\n",
    "    \"\"\"\n",
    "    if a.ndim == 1:\n",
    "        return a / np.abs(a).max()\n",
    "    else:\n",
    "        return a / np.abs(a).max(axis=axis).reshape(-1, 1)\n",
    "\n",
    "def greenfunction_between_source_receiver(time, source_radius, source_azimuth, receiver_location,\n",
    "        source_time_function, gf_func=green_function_2d, c=3):\n",
    "    \"\"\"\n",
    "    Calculate Green's function between source and receiver.\n",
    "    \n",
    "    :param time: Time (s)\n",
    "    :param source_radius: Radius of the circle which distributed sources (km)\n",
    "    :param source_azimuth: The azimuth of source distribution (degree)\n",
    "    :param receiver_location: The location the receiver (km)\n",
    "    :param source_time_function: Source time function\n",
    "    :param gf_func: The type of Green's function\n",
    "    :param c: Medium speed (km/s)\n",
    "    \"\"\"\n",
    "    if np.asarray(c).size == 1:\n",
    "        c = np.full(source_azimuth.shape, c)\n",
    "\n",
    "    d =  np.sqrt(\n",
    "        (source_radius*np.cos(source_azimuth) - receiver_location)**2\n",
    "        + (source_radius*np.sin(source_azimuth) - 0)**2\n",
    "    )\n",
    "    gf = []\n",
    "    for _stf, _d, _c in zip(source_time_function, d, c):\n",
    "        greenfunction_between_source_receiver = gf_func(time, _d, _c)\n",
    "        gf.append(greenfunction_between_source_receiver)\n",
    "\n",
    "    return np.vstack(gf)\n",
    "\n",
    "def source_convolve_with_greenfunction(source_time_function, green_function):\n",
    "    \"\"\"\n",
    "    Calculate source convolve with green's function.\n",
    "    \n",
    "    :param source_time_function: Source time function\n",
    "    :param green_function: Green's function\n",
    "    \"\"\"\n",
    "    u = []\n",
    "    for stf, gf in zip(source_time_function, green_function):\n",
    "        u.append(normalize(convolve(stf, gf, mode='full')[:gf.size]))\n",
    "        \n",
    "    return np.vstack(u)\n",
    "\n",
    "def get_displacement_from_sources(time, source_amplitude,\n",
    "                 source_time=None, shift=20,\n",
    "                 gf_func=green_function_2d, source_func=ricker,\n",
    "                 source_radius=200, source_azimuth=np.arange(0, 2*np.pi, np.pi/360),\n",
    "                 receiver_location_1=-100, receiver_location_2=100, c=3, **kwargs):\n",
    "    \"\"\"\n",
    "    Calculate displacement given source and structure.\n",
    "    \n",
    "    :param time: Time (s)\n",
    "    :param source_amplitude: Source amplitude\n",
    "    :param source_time: Source excitation time (s)\n",
    "    :param shift: Time delay of the source (s)\n",
    "    :param gf_func: The type of Green's function\n",
    "    :param source_func: The type of source\n",
    "    :param source_radius: Radius of the circle which distributed sources (km)\n",
    "    :param source_azimuth: The azimuth of source distribution (degree)\n",
    "    :param receiver_location_1: The location of the first receiver (km)\n",
    "    :param receiver_location_2: The location of the second receiver (km)\n",
    "    \"\"\"\n",
    "    source_amplitude = np.asarray(source_amplitude)\n",
    "    source_azimuth = np.asarray(source_azimuth)\n",
    "    c = np.asarray(c)\n",
    "    if source_time is None:\n",
    "        source_time = shift + np.zeros(source_azimuth.size)\n",
    "    else:\n",
    "        source_time = np.asarray(source_time)\n",
    "    stf = source_func(time, source_time.reshape(-1, 1))\n",
    "    \n",
    "    gf1 = greenfunction_between_source_receiver(time, source_radius, source_azimuth, receiver_location_1,\n",
    "                 source_time_function=stf, gf_func=gf_func, c=c)\n",
    "    u1 = source_amplitude.reshape(-1, 1) * source_convolve_with_greenfunction(stf, gf1)\n",
    "    gf2 = greenfunction_between_source_receiver(time, source_radius, source_azimuth, receiver_location_2,\n",
    "                 source_time_function=stf, gf_func=gf_func, c=c)\n",
    "    u2 = source_amplitude.reshape(-1, 1) * source_convolve_with_greenfunction(stf, gf2)\n",
    "    \n",
    "#     return u1, u2\n",
    "    return stf, gf1, u1, gf2, u2\n",
    "\n",
    "def ground_truth(time,\n",
    "                        source_func=ricker,\n",
    "                        receiver_location_1=-100, receiver_location_2=100, c_receiver=3, shift=20, delta=.1, **kwargs):\n",
    "    \"\"\"\n",
    "    Calculate true displacement use Green's function.\n",
    "    \n",
    "    :param source_func: The type of source\n",
    "    :param receiver_location_1: The location of the first receiver (km)\n",
    "    :param receiver_location_2: The location of the second receiver (km)\n",
    "    :param c_receiver: Medium speed between two receivers (km/s)\n",
    "    :param shift: Interval\n",
    "    \"\"\"\n",
    "    stf = source_func(time, shift)\n",
    "    ishift = int(shift / delta)\n",
    "    stf = correlate(stf, stf, 'full')[-time.size-ishift:]\n",
    "    x = abs(receiver_location_1 - receiver_location_2)\n",
    "    gf = green_function_2d_integral(time, x, c_receiver)\n",
    "    u12 = convolve(stf, gf, mode='full')[ishift : gf.size+ishift-1]\n",
    "    u = np.concatenate([-u12[::-1], [0], -u12])\n",
    "    # TODO: check artifact\n",
    "    u *= np.hanning(u.size)\n",
    "\n",
    "    return u\n",
    "\n",
    "def cross_correlation(u1, u2):\n",
    "    \"\"\"\n",
    "    Cross correlation function.\n",
    "    \n",
    "    :param u1: The first sequence\n",
    "    :param u2: The second sequence\n",
    "    \"\"\"\n",
    "    xc = []\n",
    "    for _u1, _u2 in zip(u1, u2):\n",
    "        xc.append(correlate(_u1, _u2, 'full'))\n",
    "\n",
    "    return np.vstack(xc)\n",
    "\n",
    "def time_xc(t):\n",
    "    \"\"\"\n",
    "    Function to extend an arithmetic sequence using the original one.\n",
    "    \n",
    "    :param t: Original time sequence\n",
    "    \"\"\"\n",
    "    return np.linspace(-t[-1], t[-1], 2*t.size-1)\n",
    "\n",
    "def running_mean(a, n):\n",
    "    \"\"\"\n",
    "    Running mean function.\n",
    "    \n",
    "    :param a: Sequence need running mean\n",
    "    :param n: Size of the window\n",
    "    \"\"\"\n",
    "    return convolve(a, np.ones(n)/n, mode='same')\n",
    "\n",
    "def plt_input(source_amplitude,\n",
    "                 source_radius=200, source_azimuth=np.arange(0, 2*np.pi, np.pi/360),\n",
    "                 receiver_location_1=-100, receiver_location_2=100, step=None, c=3, **kwargs):\n",
    "    \"\"\"\n",
    "    Plot input model parameters function.\n",
    "    \n",
    "    :param source_amplitude: Source amplitude\n",
    "    :param source_radius: Radius of the circle which distributed sources (km)\n",
    "    :param source_azimuth: The azimuth of source distribution (degree)\n",
    "    :param receiver_location_1: The location of the first receiver (km)\n",
    "    :param receiver_location_2: The location of the second receiver (km)\n",
    "    :param step: Drawing step\n",
    "    \"\"\"\n",
    "    if step is None:\n",
    "        step = int(np.ceil(source_azimuth.size / 100))\n",
    "\n",
    "    fig = plt.figure(figsize=(20, 6))\n",
    "    gs = GridSpec(1, 3, figure=fig)\n",
    "    ax1 = fig.add_subplot(gs[0])\n",
    "    ax2 = fig.add_subplot(gs[1], projection='polar')\n",
    "    ax3 = fig.add_subplot(gs[2], projection='polar')\n",
    "    \n",
    "    # Schematic of geometry\n",
    "    ax1.axhline(0, c='k')\n",
    "    ax1.axvline(0, c='k')\n",
    "    for r, txt in zip([receiver_location_1, receiver_location_2],\n",
    "                      [r'$r_1$', r'$r_2$']):\n",
    "        ax1.scatter(r, 0, s=200, marker='^', c='b')\n",
    "        ax1.text(r, -60, txt, fontsize=20)\n",
    "    theta = source_azimuth[::step]\n",
    "    ax1.scatter(source_radius*np.cos(theta), source_radius*np.sin(theta), s=50, marker='*', c='r')\n",
    "    ax1.set_xlabel('X (km)')\n",
    "    ax1.set_ylabel('Y (km)')\n",
    "    xlim = 1.1 * max(abs(receiver_location_1), source_radius)\n",
    "    ax1.set_xlim(-xlim, xlim)\n",
    "    ax1.set_ylim(-xlim, xlim)\n",
    "    ax1.set_aspect(1)\n",
    "    \n",
    "    # Source strength\n",
    "    ax2.fill_between(source_azimuth, 0, source_amplitude, alpha=.5, color='tab:blue')\n",
    "    ax2.set_title('Source amplitude', y=1.1)\n",
    "    \n",
    "    # Speed\n",
    "    ax3.fill_between(source_azimuth, 0, c, alpha=.5, color='tab:orange')\n",
    "    ax3.set_title('Speed (km/s)', y=1.1)\n",
    "    \n",
    "#     for ax in axes:\n",
    "#         ax.set_theta_zero_location('N')\n",
    "#         ax.set_theta_direction(-1)\n",
    "\n",
    "    return\n",
    "\n",
    "def plt_waveform(u1, u2, xc, direct, source_azimuth, time,\n",
    "                 xlim=300, step=10, **kwargs):\n",
    "    \"\"\"\n",
    "    Plot waveform function.\n",
    "    \n",
    "    :param u1: First receiver's data\n",
    "    :param u1: Second receiver's data\n",
    "    :param xc: The cross correlation of u1 and u2\n",
    "    :param source_azimuth: The azimuth of source distribution (degree)\n",
    "    :param time: Time (s)\n",
    "    :param xlim: The limit of x axis (s)\n",
    "    :param step: Drawing step\n",
    "    \"\"\"\n",
    "    fig = plt.figure(figsize=(20, 10))\n",
    "    gs = GridSpec(2, 3, figure=fig, height_ratios=[.7, .3])\n",
    "    ax1 = fig.add_subplot(gs[0, 0])\n",
    "    ax2 = fig.add_subplot(gs[0, 1])\n",
    "    ax3 = fig.add_subplot(gs[0, 2])\n",
    "    ax4 = fig.add_subplot(gs[1, :2])\n",
    "    ax5 = fig.add_subplot(gs[1, 2])\n",
    "    \n",
    "    for ax, u, t in zip(\n",
    "        [ax1, ax2, ax3],\n",
    "        [u1, u2, xc],\n",
    "        [time, time, time_xc(time)],\n",
    "    ):\n",
    "        vmax = np.abs(u).max()\n",
    "        ax.pcolormesh(t[::step], np.rad2deg(source_azimuth)[::step], u[::step, ::step],\n",
    "                      cmap='seismic', vmin=-vmax, vmax=vmax)\n",
    "        \n",
    "\n",
    "    xc_stack = xc.sum(axis=0)\n",
    "    dt_xc = np.diff(xc_stack)\n",
    "    mid = int(dt_xc.size / 2)\n",
    "    dt_xc = np.concatenate([dt_xc[:mid], [0], dt_xc[mid:]])\n",
    "    for ax in [ax4, ax5]:\n",
    "        ax.plot(time_xc(time), normalize(direct), c='k', ls='--', label='True')\n",
    "        ax.plot(time_xc(time), normalize(xc_stack), c='r', alpha=.5, label='Correlation stack')\n",
    "    ax4.legend()\n",
    "    ax4.set_ylabel('Norm. Amplitude')\n",
    "\n",
    "    for ax in [ax3, ax4, ax5]:\n",
    "        ax.set_xlim(-xlim/2, xlim/2)\n",
    "        ax.axvline(0, c='k')\n",
    "    for ax in [ax1, ax2]:\n",
    "        ax.set_xlim(0, xlim)\n",
    "#     for ax in axes[1, :2]:\n",
    "#         ax.axis('off')\n",
    "    ax1.set_ylabel(r'Source azimuth ($^\\circ)$')\n",
    "    ax1.set_yticks(np.linspace(0, 360, 5))\n",
    "    for ax, t in zip(\n",
    "        [ax1, ax2, ax3],\n",
    "        [r'$u_1$', r'$u_2$', r'$u_1 \\star u_2$'],\n",
    "    ):\n",
    "        ax.text(.1, .9, t, fontsize=20, transform=ax.transAxes)\n",
    "    for ax in [ax4, ax5]:\n",
    "        ax.set_xlabel('Time (s)')\n",
    "    for ax in [ax2, ax3, ax5]:\n",
    "        ax.set_yticklabels([])\n",
    "    ax3.set_xticklabels([])\n",
    "        \n",
    "    return\n",
    "\n",
    "def plt_processing(raw, processed, threshold, time, **kwargs):\n",
    "    \"\"\"\n",
    "    Function to plot the data after pre-processing.\n",
    "    \n",
    "    :param raw: The raw data without pre-processing\n",
    "    :param processed: The processed data after pre-processing\n",
    "    :param threshold: The threshold in one-bit\n",
    "    :param time: Time (s)\n",
    "    \"\"\"\n",
    "    fig, ax = plt.subplots()\n",
    "    ax.plot(time, raw, ls='--', label='Raw', c='k')\n",
    "    ax.plot(time, processed, alpha=.5, c='r', label='Processed')\n",
    "    ax.fill_between(time, -threshold, threshold, alpha=.3, color='gray', label='Threshold')\n",
    "    ax.set_xlim(0, 300)\n",
    "    ax.set_xlabel('Time (s)')\n",
    "    ax.set_ylabel('Normalized amplitude')\n",
    "    ax.legend()\n",
    "    \n",
    "    return"
   ]
  },
  {
   "cell_type": "markdown",
   "metadata": {},
   "source": [
    "-[Turn back!](#helper_back)"
   ]
  },
  {
   "cell_type": "code",
   "execution_count": null,
   "metadata": {},
   "outputs": [],
   "source": []
  }
 ],
 "metadata": {
  "kernelspec": {
   "display_name": "Python 3",
   "language": "python",
   "name": "python3"
  },
  "language_info": {
   "codemirror_mode": {
    "name": "ipython",
    "version": 3
   },
   "file_extension": ".py",
   "mimetype": "text/x-python",
   "name": "python",
   "nbconvert_exporter": "python",
   "pygments_lexer": "ipython3",
   "version": "3.7.6"
  },
  "toc": {
   "base_numbering": 1,
   "nav_menu": {},
   "number_sections": true,
   "sideBar": true,
   "skip_h1_title": false,
   "title_cell": "Table of Contents",
   "title_sidebar": "Contents",
   "toc_cell": true,
   "toc_position": {},
   "toc_section_display": true,
   "toc_window_display": false
  }
 },
 "nbformat": 4,
 "nbformat_minor": 4
}
