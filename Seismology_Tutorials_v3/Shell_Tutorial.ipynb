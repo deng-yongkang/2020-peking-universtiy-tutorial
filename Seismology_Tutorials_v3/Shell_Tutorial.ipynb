{
 "cells": [
  {
   "cell_type": "markdown",
   "metadata": {},
   "source": [
    "# 地震学Shell常用命令教程 \n",
    "\n",
    "Author：Hongyu Xiao\n",
    "\n",
    "    Graduate Student\n",
    "    University of Illinois at Urbana–Champaign\n",
    "\n",
    "Assistant：Xuezhen Zhang\n",
    "    \n",
    "    Undergraduate Student\n",
    "    Sun Yat-Sen University\n",
    "    August, 2020\n",
    "\n",
    "\n",
    "---"
   ]
  },
  {
   "cell_type": "markdown",
   "metadata": {},
   "source": [
    "## **如果有遇到问题的话**\n",
    "\n",
    "欢迎随时提问！或者将问题发在讨论区！\n",
    "\n",
    "---"
   ]
  },
  {
   "cell_type": "markdown",
   "metadata": {},
   "source": [
    "# Shell 部分学习预期\n",
    "\n",
    "\n",
    "## * 学会如何变更工作目录和查看当前工作目录\n",
    "\n",
    "\n",
    "## * 学会如何创建一个文件夹\n",
    "\n",
    "\n",
    "## * 学会如何对一个文件进行复制/移动/删除\n",
    "\n",
    "\n",
    "## * 学会查看文本行内容\n",
    "\n",
    "\n",
    "## * 学会使用管道(Pipeline ) 和 重定向 (Redirecting)\n",
    "\n",
    "\n",
    "## * (Optional) 其他shell操作\n",
    "\n",
    "\n",
    "---"
   ]
  },
  {
   "cell_type": "markdown",
   "metadata": {},
   "source": [
    "\n",
    "## I. 目录操作\n",
    "\n",
    "1. ls\n",
    "2. pwd\n",
    "3. cd\n",
    "\n",
    "    **查看官方文档** \n",
    "    \n",
    "    * man\n",
    "    * --help\n",
    "\n",
    "\n",
    "## II. 文件操作\n",
    "\n",
    "1. mkdir\n",
    "2. cp\n",
    "3. mv\n",
    "4. rm\n",
    "\n",
    "## III. 简单文本行操作\n",
    "\n",
    "1. cat\n",
    "2. tail\n",
    "3. head\n",
    "\n",
    "## IV. 其他常用操作\n",
    "\n",
    "1. clear\n",
    "2. tar\n",
    "3. history\n",
    "\n",
    "## V. 管道(Pipeline ) 和 重定向 (Redirecting)\n",
    "\n",
    "1. \"|\"\n",
    "\n",
    "2. \">\"\n",
    "\n",
    "3. \">>\"\n",
    "\n",
    "\n",
    "\n",
    "---"
   ]
  },
  {
   "cell_type": "markdown",
   "metadata": {},
   "source": [
    "## 首先，什么是Shell ？\n",
    "\n",
    "Shell 是命令操作系统执行操作的程序。 可以在计算机的控制台中输入命令，然后直接运行命令，也可以使用脚本运行批量命令。 PowerShell 和 Bash 等 Shell 为系统管理员提供了对其所负责的计算机进行优化控制所需的功能和精度。\n",
    "\n",
    "Bash 此名称是 Bourne Again Shell 的缩写。Bash 成功的一个原因是其简易性。 与 Linux 的其他 shell 类似，Bash 也基于 Unix 设计理念。 正如 Peter Salus 在其著作“A Quarter Century of Unix”中总结的那样，Unix 中体现的三个“重要思想”是：\n",
    "\n",
    "程序可以执行一项操作，并且可以完成得很好。\n",
    "程序可以协同工作。\n",
    "程序可以使用文本流作为通用接口。\n",
    "\n",
    "*最后一部分是了解 Bash 工作方式的关键。 在 Unix 和 Linux 中，所有内容都是文件*\n",
    "\n",
    "来源：https://docs.microsoft.com/en-us/learn/modules/bash-introduction\n",
    "\n",
    "---\n"
   ]
  },
  {
   "cell_type": "markdown",
   "metadata": {},
   "source": [
    "## Bash/Shell 命令的基本格式\n",
    "\n",
    "**command** [options] [arguments]\n",
    "\n",
    "命令 [选项] [操作对象] \n",
    "\n",
    "*注： 命令是必须的，但是[选项]和[操作对象]不是必须的*"
   ]
  },
  {
   "cell_type": "markdown",
   "metadata": {},
   "source": [
    "## I. 目录操作\n",
    "\n",
    "此处的目录操作是指在命令行界面(CLI)进入或者切换不同的目录的操作。\n",
    "\n",
    "主要涉及的命令(**command**)有三个\n",
    "\n",
    "`ls        显示当前工作目录下内容\n",
    "pwd        显示当前工作目录地址\n",
    "cd         切换到其他目录`\n",
    "\n",
    "---"
   ]
  },
  {
   "cell_type": "markdown",
   "metadata": {},
   "source": [
    "## 1 查看当前工作目录下内容\n",
    "\n",
    "`ls`\n",
    "\n",
    "(list)显示当前所在的目录下（又叫做当前工作目录）所包含的内容\n"
   ]
  },
  {
   "cell_type": "code",
   "execution_count": 1,
   "metadata": {},
   "outputs": [
    {
     "name": "stdout",
     "output_type": "stream",
     "text": [
      "Example_1.png\n",
      "Example_2.png\n",
      "Example_3.png\n",
      "Example_4.png\n",
      "Example_5.png\n",
      "Example_6.png\n",
      "Intro.ipynb\n",
      "Intro.pdf\n",
      "Intro_JupyterLab.ipynb\n",
      "Intro_JupyterLab.pdf\n",
      "Intro_Numpy.ipynb\n",
      "Intro_Python.ipynb\n",
      "SAC_1.png\n",
      "SAC_10.png\n",
      "SAC_11.png\n",
      "SAC_12.png\n",
      "SAC_13.png\n",
      "SAC_14.png\n",
      "SAC_2.png\n",
      "SAC_3.png\n",
      "SAC_4.png\n",
      "SAC_5.png\n",
      "SAC_6.png\n",
      "SAC_7.png\n",
      "SAC_8.png\n",
      "SAC_9.png\n",
      "SAC_Docs.pdf\n",
      "SAC_Header_Doc.pdf\n",
      "SAC_Tutorial.ipynb\n",
      "Shell_Practice_Sample\n",
      "Shell_Practice_Sample.tar\n",
      "Shell_Practice_Sample_Line2to3\n",
      "Shell_Practice_Sample_With_a\n",
      "Shell_Tutorial.ipynb\n",
      "error.png\n"
     ]
    }
   ],
   "source": [
    "%%bash\n",
    "\n",
    "#ls ##显示当前目录下文件及文件夹\n",
    "\n",
    "ls"
   ]
  },
  {
   "cell_type": "markdown",
   "metadata": {},
   "source": [
    "---\n",
    "\n",
    "`ls`是常用命令之一，配合通配符，管道和重定向是我们在服务器内常用命令之一\n",
    "\n",
    "下面给出一些例子"
   ]
  },
  {
   "cell_type": "code",
   "execution_count": 2,
   "metadata": {
    "scrolled": true
   },
   "outputs": [
    {
     "name": "stdout",
     "output_type": "stream",
     "text": [
      "********************\n",
      "total 5020\n",
      "drwxrwxrwx 1 huadanfan huadanfan    4096 Aug 15 15:58 .\n",
      "drwxrwxrwx 1 huadanfan huadanfan    4096 Aug 15 10:59 ..\n",
      "drwxrwxrwx 1 huadanfan huadanfan    4096 Aug 14 15:27 .ipynb_checkpoints\n",
      "-rwxrwxrwx 1 huadanfan huadanfan  122284 Jul 23 14:36 Example_1.png\n",
      "-rwxrwxrwx 1 huadanfan huadanfan    9292 Jul 23 14:39 Example_2.png\n",
      "-rwxrwxrwx 1 huadanfan huadanfan    3544 Jul 23 14:41 Example_3.png\n",
      "-rwxrwxrwx 1 huadanfan huadanfan    4845 Jul 23 14:41 Example_4.png\n",
      "-rwxrwxrwx 1 huadanfan huadanfan   57651 Jul 23 14:48 Example_5.png\n",
      "-rwxrwxrwx 1 huadanfan huadanfan   48868 Jul 23 14:46 Example_6.png\n",
      "-rwxrwxrwx 1 huadanfan huadanfan    4624 Aug 14 15:10 Intro.ipynb\n",
      "-rwxrwxrwx 1 huadanfan huadanfan   25956 Aug  7 23:38 Intro.pdf\n",
      "-rwxrwxrwx 1 huadanfan huadanfan   17090 Aug 15 14:41 Intro_JupyterLab.ipynb\n",
      "-rwxrwxrwx 1 huadanfan huadanfan  524667 Aug  7 23:42 Intro_JupyterLab.pdf\n",
      "-rwxrwxrwx 1 huadanfan huadanfan  123474 Aug 15 15:53 Intro_Numpy.ipynb\n",
      "-rwxrwxrwx 1 huadanfan huadanfan   36829 Aug 15 15:19 Intro_Python.ipynb\n",
      "-rwxrwxrwx 1 huadanfan huadanfan   67373 Aug  6 13:21 SAC_1.png\n",
      "-rwxrwxrwx 1 huadanfan huadanfan   66694 Aug  6 13:45 SAC_10.png\n",
      "-rwxrwxrwx 1 huadanfan huadanfan    7974 Aug  6 13:52 SAC_11.png\n",
      "-rwxrwxrwx 1 huadanfan huadanfan   27038 Aug  6 13:54 SAC_12.png\n",
      "-rwxrwxrwx 1 huadanfan huadanfan   16114 Aug  6 13:59 SAC_13.png\n",
      "-rwxrwxrwx 1 huadanfan huadanfan   25543 Aug  6 14:02 SAC_14.png\n",
      "-rwxrwxrwx 1 huadanfan huadanfan   55419 Aug  6 13:24 SAC_2.png\n",
      "-rwxrwxrwx 1 huadanfan huadanfan   30701 Aug  6 13:25 SAC_3.png\n",
      "-rwxrwxrwx 1 huadanfan huadanfan   11419 Aug  6 13:28 SAC_4.png\n",
      "-rwxrwxrwx 1 huadanfan huadanfan  114791 Aug  6 13:34 SAC_5.png\n",
      "-rwxrwxrwx 1 huadanfan huadanfan  156244 Aug  6 13:38 SAC_6.png\n",
      "-rwxrwxrwx 1 huadanfan huadanfan    3092 Aug  6 13:39 SAC_7.png\n",
      "-rwxrwxrwx 1 huadanfan huadanfan    6086 Aug  6 13:39 SAC_8.png\n",
      "-rwxrwxrwx 1 huadanfan huadanfan    6942 Aug  6 13:44 SAC_9.png\n",
      "-rwxrwxrwx 1 huadanfan huadanfan 2441132 Mar 18  2019 SAC_Docs.pdf\n",
      "-rwxrwxrwx 1 huadanfan huadanfan  990334 Aug  7 23:27 SAC_Header_Doc.pdf\n",
      "-rwxrwxrwx 1 huadanfan huadanfan    7787 Aug 14 19:20 SAC_Tutorial.ipynb\n",
      "-rwxrwxrwx 1 huadanfan huadanfan     196 Jul 23 06:24 Shell_Practice_Sample\n",
      "-rwxrwxrwx 1 huadanfan huadanfan     260 Aug 14 20:27 Shell_Practice_Sample.tar\n",
      "-rwxrwxrwx 1 huadanfan huadanfan      84 Aug 13 10:40 Shell_Practice_Sample_Line2to3\n",
      "-rwxrwxrwx 1 huadanfan huadanfan     160 Aug 13 10:40 Shell_Practice_Sample_With_a\n",
      "-rwxrwxrwx 1 huadanfan huadanfan   36374 Aug 15 15:58 Shell_Tutorial.ipynb\n",
      "-rwxrwxrwx 1 huadanfan huadanfan   29783 Aug 10 08:46 error.png\n",
      "*******************\n",
      "8.0K SAC_Tutorial.ipynb\n",
      " 36K Shell_Tutorial.ipynb\n",
      "*******************\n",
      "SAC_1.png\n",
      "SAC_10.png\n",
      "SAC_11.png\n",
      "SAC_12.png\n",
      "SAC_13.png\n",
      "SAC_14.png\n",
      "SAC_2.png\n",
      "SAC_3.png\n",
      "SAC_4.png\n",
      "SAC_5.png\n",
      "SAC_6.png\n",
      "SAC_7.png\n",
      "SAC_8.png\n",
      "SAC_9.png\n",
      "SAC_Docs.pdf\n",
      "SAC_Header_Doc.pdf\n",
      "SAC_Tutorial.ipynb\n",
      "Shell_Practice_Sample\n",
      "Shell_Practice_Sample.tar\n",
      "Shell_Practice_Sample_Line2to3\n",
      "Shell_Practice_Sample_With_a\n",
      "Shell_Tutorial.ipynb\n",
      "*******************\n",
      "Shell_Tutorial.ipynb\n"
     ]
    }
   ],
   "source": [
    "%%bash\n",
    "\n",
    "echo \"********************\"\n",
    "\n",
    "ls -al ##当前目录下,显示全部文件及权限\n",
    "\n",
    "echo \"*******************\"\n",
    "\n",
    "ls *Tutorial* -sh ##当前目录下,显示文件名含有Tutorial的文件，并显示其大小\n",
    "\n",
    "echo \"*******************\"\n",
    "\n",
    "ls [S,P,K,U]* ##当前目录下,显示文件名以S或者P或者K或者U开头的文件\n",
    "\n",
    "echo \"*******************\"\n",
    "\n",
    "ls ?hell_Tutorial.ipynb ##当前目录下,显示文件名为第一个字母未知，但是以hell_Tutorial.ipynb的文件"
   ]
  },
  {
   "cell_type": "markdown",
   "metadata": {},
   "source": [
    "### 如果我忘了这些-a -l -s -d选项怎么办？\n",
    "\n",
    "在Shell下的大多数命令都配置了帮助文档，有两种方式可以进行查看\n",
    "\n",
    "1. Man 命令\n",
    "2. --help 选项\n",
    "\n",
    "当然，你也可以上网进行搜索查看，网上有很多的的优质资源。\n",
    "\n",
    "---\n",
    "\n",
    "以下为两种方法作为例子进行帮助文档的查看，这个基本适用于任何Shell命令"
   ]
  },
  {
   "cell_type": "code",
   "execution_count": 3,
   "metadata": {},
   "outputs": [
    {
     "name": "stdout",
     "output_type": "stream",
     "text": [
      "LS(1)                                               User Commands                                               LS(1)\n",
      "\n",
      "NAME\n",
      "       ls - list directory contents\n",
      "\n",
      "SYNOPSIS\n",
      "       ls [OPTION]... [FILE]...\n",
      "\n",
      "DESCRIPTION\n",
      "       List  information  about the FILEs (the current directory by default).  Sort entries alphabetically if none of\n",
      "       -cftuvSUX nor --sort is specified.\n",
      "\n",
      "       Mandatory arguments to long options are mandatory for short options too.\n",
      "\n",
      "       -a, --all\n",
      "              do not ignore entries starting with .\n",
      "\n",
      "       -A, --almost-all\n",
      "              do not list implied . and ..\n",
      "\n",
      "       --author\n",
      "              with -l, print the author of each file\n",
      "\n",
      "       -b, --escape\n",
      "              print C-style escapes for nongraphic characters\n",
      "\n",
      "       --block-size=SIZE\n",
      "              scale sizes by SIZE before printing them; e.g., '--block-size=M' prints sizes  in  units  of  1,048,576\n",
      "              bytes; see SIZE format below\n",
      "\n",
      "       -B, --ignore-backups\n",
      "              do not list implied entries ending with ~\n",
      "\n",
      "       -c     with  -lt:  sort  by,  and show, ctime (time of last modification of file status information); with -l:\n",
      "              show ctime and sort by name; otherwise: sort by ctime, newest first\n",
      "\n",
      "       -C     list entries by columns\n",
      "\n",
      "       --color[=WHEN]\n",
      "              colorize the output; WHEN can be 'always' (default if omitted), 'auto', or 'never'; more info below\n",
      "\n",
      "       -d, --directory\n",
      "              list directories themselves, not their contents\n",
      "\n",
      "       -D, --dired\n",
      "              generate output designed for Emacs' dired mode\n",
      "\n",
      "       -f     do not sort, enable -aU, disable -ls --color\n",
      "\n",
      "       -F, --classify\n",
      "              append indicator (one of */=>@|) to entries\n",
      "\n",
      "       --file-type\n",
      "              likewise, except do not append '*'\n",
      "\n",
      "       --format=WORD\n",
      "              across -x, commas -m, horizontal -x, long -l, single-column -1, verbose -l, vertical -C\n",
      "\n",
      "       --full-time\n",
      "              like -l --time-style=full-iso\n",
      "\n",
      "       -g     like -l, but do not list owner\n",
      "\n",
      "       --group-directories-first\n",
      "              group directories before files;\n",
      "\n",
      "              can be augmented with a --sort option, but any use of --sort=none (-U) disables grouping\n",
      "\n",
      "       -G, --no-group\n",
      "              in a long listing, don't print group names\n",
      "\n",
      "       -h, --human-readable\n",
      "              with -l and/or -s, print human readable sizes (e.g., 1K 234M 2G)\n",
      "\n",
      "       --si   likewise, but use powers of 1000 not 1024\n",
      "\n",
      "       -H, --dereference-command-line\n",
      "              follow symbolic links listed on the command line\n",
      "\n",
      "       --dereference-command-line-symlink-to-dir\n",
      "              follow each command line symbolic link\n",
      "\n",
      "              that points to a directory\n",
      "\n",
      "       --hide=PATTERN\n",
      "              do not list implied entries matching shell PATTERN (overridden by -a or -A)\n",
      "\n",
      "       --hyperlink[=WHEN]\n",
      "              hyperlink file names; WHEN can be 'always' (default if omitted), 'auto', or 'never'\n",
      "\n",
      "       --indicator-style=WORD\n",
      "              append indicator with style WORD to entry names: none (default), slash (-p),  file-type  (--file-type),\n",
      "              classify (-F)\n",
      "\n",
      "       -i, --inode\n",
      "              print the index number of each file\n",
      "\n",
      "       -I, --ignore=PATTERN\n",
      "              do not list implied entries matching shell PATTERN\n",
      "\n",
      "       -k, --kibibytes\n",
      "              default to 1024-byte blocks for disk usage\n",
      "\n",
      "       -l     use a long listing format\n",
      "\n",
      "       -L, --dereference\n",
      "              when  showing  file  information for a symbolic link, show information for the file the link references\n",
      "              rather than for the link itself\n",
      "\n",
      "       -m     fill width with a comma separated list of entries\n",
      "\n",
      "       -n, --numeric-uid-gid\n",
      "              like -l, but list numeric user and group IDs\n",
      "\n",
      "       -N, --literal\n",
      "              print entry names without quoting\n",
      "\n",
      "       -o     like -l, but do not list group information\n",
      "\n",
      "       -p, --indicator-style=slash\n",
      "              append / indicator to directories\n",
      "\n",
      "       -q, --hide-control-chars\n",
      "              print ? instead of nongraphic characters\n",
      "\n",
      "       --show-control-chars\n",
      "              show nongraphic characters as-is (the default, unless program is 'ls' and output is a terminal)\n",
      "\n",
      "       -Q, --quote-name\n",
      "              enclose entry names in double quotes\n",
      "\n",
      "       --quoting-style=WORD\n",
      "              use  quoting  style  WORD  for  entry  names:  literal,  locale,  shell,  shell-always,   shell-escape,\n",
      "              shell-escape-always, c, escape\n",
      "\n",
      "       -r, --reverse\n",
      "              reverse order while sorting\n",
      "\n",
      "       -R, --recursive\n",
      "              list subdirectories recursively\n",
      "\n",
      "       -s, --size\n",
      "              print the allocated size of each file, in blocks\n",
      "\n",
      "       -S     sort by file size, largest first\n",
      "\n",
      "       --sort=WORD\n",
      "              sort by WORD instead of name: none (-U), size (-S), time (-t), version (-v), extension (-X)\n",
      "\n",
      "       --time=WORD\n",
      "              with  -l, show time as WORD instead of default modification time: atime or access or use (-u); ctime or\n",
      "              status (-c); also use specified time as sort key if --sort=time (newest first)\n",
      "\n",
      "       --time-style=STYLE\n",
      "              with -l, show times using style STYLE: full-iso, long-iso, iso, locale, or +FORMAT;  FORMAT  is  inter鈥�\n",
      "              preted  like  in 'date'; if FORMAT is FORMAT1<newline>FORMAT2, then FORMAT1 applies to non-recent files\n",
      "              and FORMAT2 to recent files; if STYLE is prefixed with 'posix-', STYLE takes effect  only  outside  the\n",
      "              POSIX locale\n",
      "\n",
      "       -t     sort by modification time, newest first\n",
      "\n",
      "       -T, --tabsize=COLS\n",
      "              assume tab stops at each COLS instead of 8\n",
      "\n",
      "       -u     with  -lt:  sort by, and show, access time; with -l: show access time and sort by name; otherwise: sort\n",
      "              by access time, newest first\n",
      "\n",
      "       -U     do not sort; list entries in directory order\n",
      "\n",
      "       -v     natural sort of (version) numbers within text\n",
      "\n",
      "       -w, --width=COLS\n",
      "              set output width to COLS.  0 means no limit\n",
      "\n",
      "       -x     list entries by lines instead of by columns\n",
      "\n",
      "       -X     sort alphabetically by entry extension\n",
      "\n",
      "       -Z, --context\n",
      "              print any security context of each file\n",
      "\n",
      "       -1     list one file per line.  Avoid '\\n' with -q or -b\n",
      "\n",
      "       --help display this help and exit\n",
      "\n",
      "       --version\n",
      "              output version information and exit\n",
      "\n",
      "       The SIZE argument is an integer and optional unit (example: 10K is 10*1024).  Units are K,M,G,T,P,E,Z,Y  (pow鈥�\n",
      "       ers of 1024) or KB,MB,... (powers of 1000).\n",
      "\n",
      "       Using  color to distinguish file types is disabled both by default and with --color=never.  With --color=auto,\n",
      "       ls emits color codes only when standard output is connected to a terminal.  The LS_COLORS environment variable\n",
      "       can change the settings.  Use the dircolors command to set it.\n",
      "\n",
      "   Exit status:\n",
      "       0      if OK,\n",
      "\n",
      "       1      if minor problems (e.g., cannot access subdirectory),\n",
      "\n",
      "       2      if serious trouble (e.g., cannot access command-line argument).\n",
      "\n",
      "AUTHOR\n",
      "       Written by Richard M. Stallman and David MacKenzie.\n",
      "\n",
      "REPORTING BUGS\n",
      "       GNU coreutils online help: <http://www.gnu.org/software/coreutils/>\n",
      "       Report ls translation bugs to <http://translationproject.org/team/>\n",
      "\n",
      "COPYRIGHT\n",
      "       Copyright   漏   2017   Free   Software   Foundation,  Inc.   License  GPLv3+:  GNU  GPL  version  3  or  later\n",
      "       <http://gnu.org/licenses/gpl.html>.\n",
      "       This is free software: you are free to change and redistribute it.  There is NO WARRANTY, to the  extent  per鈥�\n",
      "       mitted by law.\n",
      "\n",
      "SEE ALSO\n",
      "       Full documentation at: <http://www.gnu.org/software/coreutils/ls>\n",
      "       or available locally via: info '(coreutils) ls invocation'\n",
      "\n",
      "GNU coreutils 8.28                                   January 2018                                               LS(1)\n"
     ]
    }
   ],
   "source": [
    "%%bash\n",
    "\n",
    "man ls"
   ]
  },
  {
   "cell_type": "code",
   "execution_count": 4,
   "metadata": {},
   "outputs": [
    {
     "name": "stdout",
     "output_type": "stream",
     "text": [
      "Usage: ls [OPTION]... [FILE]...\n",
      "List information about the FILEs (the current directory by default).\n",
      "Sort entries alphabetically if none of -cftuvSUX nor --sort is specified.\n",
      "\n",
      "Mandatory arguments to long options are mandatory for short options too.\n",
      "  -a, --all                  do not ignore entries starting with .\n",
      "  -A, --almost-all           do not list implied . and ..\n",
      "      --author               with -l, print the author of each file\n",
      "  -b, --escape               print C-style escapes for nongraphic characters\n",
      "      --block-size=SIZE      scale sizes by SIZE before printing them; e.g.,\n",
      "                               '--block-size=M' prints sizes in units of\n",
      "                               1,048,576 bytes; see SIZE format below\n",
      "  -B, --ignore-backups       do not list implied entries ending with ~\n",
      "  -c                         with -lt: sort by, and show, ctime (time of last\n",
      "                               modification of file status information);\n",
      "                               with -l: show ctime and sort by name;\n",
      "                               otherwise: sort by ctime, newest first\n",
      "  -C                         list entries by columns\n",
      "      --color[=WHEN]         colorize the output; WHEN can be 'always' (default\n",
      "                               if omitted), 'auto', or 'never'; more info below\n",
      "  -d, --directory            list directories themselves, not their contents\n",
      "  -D, --dired                generate output designed for Emacs' dired mode\n",
      "  -f                         do not sort, enable -aU, disable -ls --color\n",
      "  -F, --classify             append indicator (one of */=>@|) to entries\n",
      "      --file-type            likewise, except do not append '*'\n",
      "      --format=WORD          across -x, commas -m, horizontal -x, long -l,\n",
      "                               single-column -1, verbose -l, vertical -C\n",
      "      --full-time            like -l --time-style=full-iso\n",
      "  -g                         like -l, but do not list owner\n",
      "      --group-directories-first\n",
      "                             group directories before files;\n",
      "                               can be augmented with a --sort option, but any\n",
      "                               use of --sort=none (-U) disables grouping\n",
      "  -G, --no-group             in a long listing, don't print group names\n",
      "  -h, --human-readable       with -l and/or -s, print human readable sizes\n",
      "                               (e.g., 1K 234M 2G)\n",
      "      --si                   likewise, but use powers of 1000 not 1024\n",
      "  -H, --dereference-command-line\n",
      "                             follow symbolic links listed on the command line\n",
      "      --dereference-command-line-symlink-to-dir\n",
      "                             follow each command line symbolic link\n",
      "                               that points to a directory\n",
      "      --hide=PATTERN         do not list implied entries matching shell PATTERN\n",
      "                               (overridden by -a or -A)\n",
      "      --hyperlink[=WHEN]     hyperlink file names; WHEN can be 'always'\n",
      "                               (default if omitted), 'auto', or 'never'\n",
      "      --indicator-style=WORD  append indicator with style WORD to entry names:\n",
      "                               none (default), slash (-p),\n",
      "                               file-type (--file-type), classify (-F)\n",
      "  -i, --inode                print the index number of each file\n",
      "  -I, --ignore=PATTERN       do not list implied entries matching shell PATTERN\n",
      "  -k, --kibibytes            default to 1024-byte blocks for disk usage\n",
      "  -l                         use a long listing format\n",
      "  -L, --dereference          when showing file information for a symbolic\n",
      "                               link, show information for the file the link\n",
      "                               references rather than for the link itself\n",
      "  -m                         fill width with a comma separated list of entries\n",
      "  -n, --numeric-uid-gid      like -l, but list numeric user and group IDs\n",
      "  -N, --literal              print entry names without quoting\n",
      "  -o                         like -l, but do not list group information\n",
      "  -p, --indicator-style=slash\n",
      "                             append / indicator to directories\n",
      "  -q, --hide-control-chars   print ? instead of nongraphic characters\n",
      "      --show-control-chars   show nongraphic characters as-is (the default,\n",
      "                               unless program is 'ls' and output is a terminal)\n",
      "  -Q, --quote-name           enclose entry names in double quotes\n",
      "      --quoting-style=WORD   use quoting style WORD for entry names:\n",
      "                               literal, locale, shell, shell-always,\n",
      "                               shell-escape, shell-escape-always, c, escape\n",
      "  -r, --reverse              reverse order while sorting\n",
      "  -R, --recursive            list subdirectories recursively\n",
      "  -s, --size                 print the allocated size of each file, in blocks\n",
      "  -S                         sort by file size, largest first\n",
      "      --sort=WORD            sort by WORD instead of name: none (-U), size (-S),\n",
      "                               time (-t), version (-v), extension (-X)\n",
      "      --time=WORD            with -l, show time as WORD instead of default\n",
      "                               modification time: atime or access or use (-u);\n",
      "                               ctime or status (-c); also use specified time\n",
      "                               as sort key if --sort=time (newest first)\n",
      "      --time-style=STYLE     with -l, show times using style STYLE:\n",
      "                               full-iso, long-iso, iso, locale, or +FORMAT;\n",
      "                               FORMAT is interpreted like in 'date'; if FORMAT\n",
      "                               is FORMAT1<newline>FORMAT2, then FORMAT1 applies\n",
      "                               to non-recent files and FORMAT2 to recent files;\n",
      "                               if STYLE is prefixed with 'posix-', STYLE\n",
      "                               takes effect only outside the POSIX locale\n",
      "  -t                         sort by modification time, newest first\n",
      "  -T, --tabsize=COLS         assume tab stops at each COLS instead of 8\n",
      "  -u                         with -lt: sort by, and show, access time;\n",
      "                               with -l: show access time and sort by name;\n",
      "                               otherwise: sort by access time, newest first\n",
      "  -U                         do not sort; list entries in directory order\n",
      "  -v                         natural sort of (version) numbers within text\n",
      "  -w, --width=COLS           set output width to COLS.  0 means no limit\n",
      "  -x                         list entries by lines instead of by columns\n",
      "  -X                         sort alphabetically by entry extension\n",
      "  -Z, --context              print any security context of each file\n",
      "  -1                         list one file per line.  Avoid '\\n' with -q or -b\n",
      "      --help     display this help and exit\n",
      "      --version  output version information and exit\n",
      "\n",
      "The SIZE argument is an integer and optional unit (example: 10K is 10*1024).\n",
      "Units are K,M,G,T,P,E,Z,Y (powers of 1024) or KB,MB,... (powers of 1000).\n",
      "\n",
      "Using color to distinguish file types is disabled both by default and\n",
      "with --color=never.  With --color=auto, ls emits color codes only when\n",
      "standard output is connected to a terminal.  The LS_COLORS environment\n",
      "variable can change the settings.  Use the dircolors command to set it.\n",
      "\n",
      "Exit status:\n",
      " 0  if OK,\n",
      " 1  if minor problems (e.g., cannot access subdirectory),\n",
      " 2  if serious trouble (e.g., cannot access command-line argument).\n",
      "\n",
      "GNU coreutils online help: <http://www.gnu.org/software/coreutils/>\n",
      "Report ls translation bugs to <http://translationproject.org/team/>\n",
      "Full documentation at: <http://www.gnu.org/software/coreutils/ls>\n",
      "or available locally via: info '(coreutils) ls invocation'\n"
     ]
    }
   ],
   "source": [
    "%%bash\n",
    "\n",
    "ls --help"
   ]
  },
  {
   "cell_type": "markdown",
   "metadata": {},
   "source": [
    "## 2 显示当前工作目录地址\n",
    "\n",
    "`pwd`\n",
    "\n",
    "(print working directory)显示当前所在的工作目录的位置/绝对地址"
   ]
  },
  {
   "cell_type": "code",
   "execution_count": 5,
   "metadata": {},
   "outputs": [
    {
     "name": "stdout",
     "output_type": "stream",
     "text": [
      "/mnt/z/MyWork/RESEARCH/Seismology_Tutorials_v3\n"
     ]
    }
   ],
   "source": [
    "%%bash\n",
    "\n",
    "pwd ##显示当前所在的工作目录的位置\n"
   ]
  },
  {
   "cell_type": "markdown",
   "metadata": {},
   "source": [
    "### Linux的绝对地址和相对地址\n",
    "\n",
    "在Linux环境下，我们查看的地址分为**绝对地址**和**相对地址**\n",
    "\n",
    "* 绝对地址\n",
    "    \n",
    "    文件或者程序所在的绝对路径，称为绝对地址。其主要的好处是绝对地址可以精确地定位文件或者目录，坏处是对于某些储存位置比较深的路径，绝对地址会比较长，使用起来会带来不便。\n",
    "    \n",
    "    \n",
    "* 相对地址\n",
    "\n",
    "    文件或者程序所在的相对路径，成为相对地址，其相对的是 **当前工作目录**。 相对地址可以大幅度的降低地址长度，便于使用，但是缺陷在于由于其相对于当前工作目录，如果写入shell程序中，有时就会造成目录定位的混乱。\n",
    "    \n",
    "下面我们来举个例子：\n",
    "\n",
    "---\n"
   ]
  },
  {
   "cell_type": "code",
   "execution_count": 6,
   "metadata": {},
   "outputs": [
    {
     "name": "stdout",
     "output_type": "stream",
     "text": [
      "/mnt/z/MyWork/RESEARCH/Seismology_Tutorials_v3\n"
     ]
    }
   ],
   "source": [
    "%%bash \n",
    "\n",
    "pwd #当前工作目录\n"
   ]
  },
  {
   "cell_type": "markdown",
   "metadata": {},
   "source": [
    "这个叫做**当前工作目录**。\n",
    "\n",
    "目前的显示方式是以绝对地址的形式现实的。\n",
    "\n",
    "对于相对地址，主要有两个经常使用的命令：\n",
    "\n",
    "`.`  代表的是当前工作目录  \n",
    "    \n",
    "`..` 代表的是当前工作目录的上一级\n"
   ]
  },
  {
   "cell_type": "code",
   "execution_count": 7,
   "metadata": {},
   "outputs": [
    {
     "name": "stdout",
     "output_type": "stream",
     "text": [
      "I am the current working directory :\n",
      "/mnt/z/MyWork/RESEARCH/Seismology_Tutorials_v3\n",
      "*********************************************************\n",
      "I am the parent directory of the working directory:\n",
      "/mnt/z/MyWork/RESEARCH\n",
      "*********************************************************\n",
      "./Seismology_Tutorials_v3/Intro.ipynb\n",
      "-rwxrwxrwx 1 huadanfan huadanfan 4624 Aug 14 15:10 ./Seismology_Tutorials_v3/Intro.ipynb\n"
     ]
    }
   ],
   "source": [
    "%%bash\n",
    "\n",
    "cd .\n",
    "\n",
    "echo 'I am the current working directory :'\n",
    "\n",
    "pwd\n",
    "\n",
    "echo '*********************************************************'\n",
    "\n",
    "cd ..\n",
    "\n",
    "echo 'I am the parent directory of the working directory:'\n",
    "\n",
    "pwd\n",
    "\n",
    "echo '*********************************************************'\n",
    "\n",
    "find . -name Intro.ipynb\n",
    "\n",
    "ls ./Seismology_Tutorials_v3/Intro.ipynb -l"
   ]
  },
  {
   "cell_type": "markdown",
   "metadata": {},
   "source": [
    "此处的`find . -name Intro.ipynb`结果就是按照相对地址进行显示的。\n",
    "\n",
    "如果我们想要查看Intro.ipynb的详细信息\n",
    "\n",
    "我们可以直接 `ls ./Seismology_Tutorials/Intro.ipynb`\n",
    "\n",
    "---"
   ]
  },
  {
   "cell_type": "markdown",
   "metadata": {},
   "source": [
    "## 3 切换当前工作目录\n",
    "\n",
    "`cd`\n",
    "\n",
    "(change directory)从当前地址切换到其他工作目录，可以使用**绝对地址/相对地址**进行切换。\n"
   ]
  },
  {
   "cell_type": "code",
   "execution_count": 8,
   "metadata": {
    "scrolled": true
   },
   "outputs": [
    {
     "name": "stdout",
     "output_type": "stream",
     "text": [
      "I am current working directory :\n",
      "/mnt/z/MyWork/RESEARCH/Seismology_Tutorials_v3\n",
      "********************************\n",
      "Now I am at :\n",
      "/mnt/z/MyWork/RESEARCH\n",
      "********************************\n",
      "Now I am at :\n",
      "/mnt/c/Users\n",
      "********************************\n"
     ]
    }
   ],
   "source": [
    "%%bash\n",
    "\n",
    "echo \"I am current working directory :\"\n",
    "\n",
    "pwd                  #显示当前工作目录\n",
    "\n",
    "echo '********************************'\n",
    "\n",
    "cd ..                #切换到当前工作目录的上级目录，使用相对地址\n",
    "\n",
    "echo \"Now I am at :\"\n",
    "\n",
    "pwd                  #显示当前工作目录\n",
    "\n",
    "echo '********************************'\n",
    "\n",
    "cd /mnt/c/Users      #切换到特定目录，使用绝对地址\n",
    "\n",
    "echo \"Now I am at :\"\n",
    "\n",
    "pwd                  #显示当前工作目录\n",
    "\n",
    "echo '********************************'"
   ]
  },
  {
   "cell_type": "markdown",
   "metadata": {},
   "source": [
    "在Linux中，每次我们使用`.`或者`..`在路径的时候，请注意这都是相对于当前的工作路径而言的。\n",
    "\n",
    "而如果我们是使用绝对的路径，我们则不需要担心这个问题.\n",
    "\n",
    "但是如你所见，如果我们的路径名称非常长的时候，输入就变成了一件麻烦事，而且可能会带来意想不到的后果。\n",
    "\n",
    "一般而言，我们使用时还是以方便为主，**大多使用相对地址，少数情况下使用绝对地址**。"
   ]
  },
  {
   "cell_type": "markdown",
   "metadata": {},
   "source": [
    "---\n",
    "\n",
    "## II. 文件操作\n",
    "\n",
    "此处的文件操作是指在命令行界面(CLI)进行文件或者文件夹的**创建，复制，修改，删除**命令。\n",
    "\n",
    "主要涉及的命令(**command**)有四个\n",
    "\n",
    "`mkdir     创建文件夹\n",
    " cp        复制文件/文件夹\n",
    " mv        移动文件/文件夹\n",
    " rm        删除文件/文件夹`\n",
    "\n"
   ]
  },
  {
   "cell_type": "markdown",
   "metadata": {},
   "source": [
    "## 1 创建文件夹\n",
    "\n",
    "`mkdir`\n",
    "\n",
    "(make directory)在当前工作目录下创建一个新的文件夹。\n"
   ]
  },
  {
   "cell_type": "code",
   "execution_count": 10,
   "metadata": {},
   "outputs": [
    {
     "name": "stdout",
     "output_type": "stream",
     "text": [
      "Shell_Practice/\n"
     ]
    },
    {
     "name": "stderr",
     "output_type": "stream",
     "text": [
      "mkdir: cannot create directory 鈥楽hell_Practice鈥�: File exists\n"
     ]
    }
   ],
   "source": [
    "%%bash\n",
    "\n",
    "mkdir Shell_Practice   #创建一个名为Shell_Practice的文件夹\n",
    "\n",
    "ls */ -d               #显示在当前目录下所有的文件夹\n"
   ]
  },
  {
   "cell_type": "markdown",
   "metadata": {},
   "source": [
    "---\n",
    "\n",
    "## 2 复制文件/文件夹\n",
    "\n",
    "`cp`\n",
    "\n",
    "(copy)对文件或者文件夹进行复制，操作对象可以是本地文件/文件夹，也可以是特定地址的文件/文件夹。\n",
    "\n",
    "\n",
    "在运行程序的过程中，我们经常面对的情况是，我们需要对脚本中的某一个或者某几个的参数进行修改，\n",
    "\n",
    "但是我们并不确定修改后的参数能否让程序运行，所以我们又不想破坏源文件，这时候我们有以下几个选择：\n",
    "\n",
    "* 使用`Git`对脚本进行**版本控制**\n",
    "\n",
    "\n",
    "* 在脚本中复制原命令行，粘贴后的内容，将**原命令行注释掉**。\n",
    "\n",
    "\n",
    "* 使用`cp`对**原脚本进行拷贝**以备份，让后修改源文件。\n",
    "\n",
    "\n",
    "这三种方式都可以完成调试任务，由此可见，`cp`命令是我们非常常用的命令之一。\n",
    "\n"
   ]
  },
  {
   "cell_type": "code",
   "execution_count": 11,
   "metadata": {
    "scrolled": false
   },
   "outputs": [
    {
     "name": "stdout",
     "output_type": "stream",
     "text": [
      "Example_1.png\n",
      "Example_2.png\n",
      "Example_3.png\n",
      "Example_4.png\n",
      "Example_5.png\n",
      "Example_6.png\n",
      "Intro.ipynb\n",
      "Intro.pdf\n",
      "Intro_JupyterLab.ipynb\n",
      "Intro_JupyterLab.pdf\n",
      "Intro_Numpy.ipynb\n",
      "Intro_Python.ipynb\n",
      "SAC_1.png\n",
      "SAC_10.png\n",
      "SAC_11.png\n",
      "SAC_12.png\n",
      "SAC_13.png\n",
      "SAC_14.png\n",
      "SAC_2.png\n",
      "SAC_3.png\n",
      "SAC_4.png\n",
      "SAC_5.png\n",
      "SAC_6.png\n",
      "SAC_7.png\n",
      "SAC_8.png\n",
      "SAC_9.png\n",
      "SAC_Docs.pdf\n",
      "SAC_Header_Doc.pdf\n",
      "SAC_Tutorial.ipynb\n",
      "Shell_Practice\n",
      "Shell_Practice_Sample\n",
      "Shell_Practice_Sample.tar\n",
      "Shell_Practice_Sample_Line2to3\n",
      "Shell_Practice_Sample_With_a\n",
      "Shell_Tutorial.ipynb\n",
      "error.png\n",
      "********************************\n",
      "Shell_Practice_Sample_Backup\n",
      "********************************\n"
     ]
    }
   ],
   "source": [
    "%%bash\n",
    "\n",
    "ls   #查看当前目录下文件\n",
    "\n",
    "echo '********************************'\n",
    "\n",
    "cp Shell_Practice_Sample  Shell_Practice/Shell_Practice_Sample_Backup \n",
    "\n",
    "#复制Shell_Practice_Sample，重新命名为Shell_Practice_Sample_Backup\n",
    "\n",
    "ls Shell_Practice\n",
    "\n",
    "echo '********************************'\n"
   ]
  },
  {
   "cell_type": "markdown",
   "metadata": {},
   "source": [
    "在上面的例子里 第一个Shell_Practice_Sample就在操作的当前录下，所以我只需要输入文件名即可\n",
    "\n",
    "而且我们的新文件被放入了Shell_Practice文件夹中，事实上，**你可以从任何地址复制任何文件到另外任何一个地址中**。\n",
    "\n",
    "***\n",
    "\n",
    "除此之外, `cp` 命令还有个常用的功能是重命名功能。\n",
    "\n",
    "在linux下，我们有多种重新命名文件的方式。下面以`cp`命令来进行重命名。\n",
    "\n",
    "主要步骤是\n",
    "\n",
    "1. 复制原文件到原地址，讲其命名为新的文件名\n",
    "\n",
    "2. 删除原文件\n"
   ]
  },
  {
   "cell_type": "code",
   "execution_count": 12,
   "metadata": {},
   "outputs": [
    {
     "name": "stdout",
     "output_type": "stream",
     "text": [
      "Shell_Practice_Sample_NewName\n"
     ]
    }
   ],
   "source": [
    "%%bash\n",
    "\n",
    "cd Shell_Practice\n",
    "\n",
    "cp Shell_Practice_Sample_Backup Shell_Practice_Sample_NewName\n",
    "\n",
    "rm Shell_Practice_Sample_Backup -rf\n",
    "\n",
    "ls "
   ]
  },
  {
   "cell_type": "markdown",
   "metadata": {},
   "source": [
    "---\n",
    "\n",
    "## 3 移动文件/文件夹\n",
    "\n",
    "`mv`\n",
    "\n",
    "(move)对文件或者文件夹进行复制，操作对象可以是本地文件/文件夹，也可以是特定地址的文件/文件夹。"
   ]
  },
  {
   "cell_type": "code",
   "execution_count": 13,
   "metadata": {},
   "outputs": [
    {
     "name": "stdout",
     "output_type": "stream",
     "text": [
      "To_Be_Moved_Folder/\n"
     ]
    }
   ],
   "source": [
    "%%bash\n",
    "\n",
    "mkdir To_Be_Moved_Folder                 #创建一个文件夹叫做To_Be_Moved_Folder \n",
    "\n",
    "mv To_Be_Moved_Folder Shell_Practice     #将To_Be_Moved_Folder文件夹移动到Shell_Practice内\n",
    "\n",
    "cd ./Shell_Practice\n",
    "\n",
    "ls */ -d                     #列出在Shell_Practice目录下所有的文件夹"
   ]
  },
  {
   "cell_type": "markdown",
   "metadata": {},
   "source": [
    "---\n",
    "\n",
    "除此之外，我们同样可以使用`mv`进行重命名。\n",
    "\n"
   ]
  },
  {
   "cell_type": "code",
   "execution_count": 14,
   "metadata": {},
   "outputs": [
    {
     "name": "stdout",
     "output_type": "stream",
     "text": [
      "To_Be_Moved_Folder/\n",
      "********************************\n",
      "New_Named_Folder/\n",
      "********************************\n"
     ]
    }
   ],
   "source": [
    "%%bash\n",
    "\n",
    "cd Shell_Practice                        #切换到Shell_Practice目录下\n",
    "\n",
    "ls */ -d                                 #显示当前目录下的文件夹\n",
    "\n",
    "echo '********************************'  #\n",
    "\n",
    "mv To_Be_Moved_Folder New_Named_Folder   #将To_Be_Moved_Folder重命名为New_Named_Folder\n",
    "\n",
    "ls */ -d                                 #显示当前目录下的文件夹\n",
    "\n",
    "echo '********************************'"
   ]
  },
  {
   "cell_type": "markdown",
   "metadata": {},
   "source": [
    "---\n",
    "\n",
    "\n",
    "## 4 删除文件/文件夹     [<span style=\"color:red\">慎用!</span>]\n",
    "\n",
    "## <span style=\"color:red\"> -----------------慎用------------------ </span>\n",
    "\n",
    "`rm` \n",
    "\n",
    "(remove)对文件或者文件夹进行删除，操作对象可以是本地文件/文件夹，也可以是特定地址的文件/文件夹。\n",
    "\n",
    "## <span style=\"color:red\"> -----------------慎用------------------ </span>\n",
    "\n",
    "例子：\n",
    "\n",
    "`rm 文件名`\n",
    "\n",
    "本次课程中，请小心使用rm命令！"
   ]
  },
  {
   "cell_type": "code",
   "execution_count": 15,
   "metadata": {},
   "outputs": [
    {
     "name": "stdout",
     "output_type": "stream",
     "text": [
      "Shell_Practice_Sample\n",
      "Shell_Practice_Sample.tar\n",
      "Shell_Practice_Sample_Line2to3\n",
      "Shell_Practice_Sample_RM\n",
      "Shell_Practice_Sample_With_a\n",
      "********************************\n",
      "Shell_Practice_Sample\n",
      "Shell_Practice_Sample.tar\n",
      "Shell_Practice_Sample_Line2to3\n",
      "Shell_Practice_Sample_With_a\n"
     ]
    }
   ],
   "source": [
    "%%bash\n",
    "\n",
    "cp Shell_Practice_Sample Shell_Practice_Sample_RM \n",
    "\n",
    "ls Shell_Practice_Sample*\n",
    "\n",
    "echo '********************************' \n",
    "\n",
    "rm Shell_Practice_Sample_RM\n",
    "\n",
    "ls Shell_Practice_Sample*\n"
   ]
  },
  {
   "cell_type": "markdown",
   "metadata": {},
   "source": [
    "---\n",
    "\n",
    "## III. 简单文本行操作\n",
    "\n",
    "此处的文件操作是指在命令行界面(CLI)进行简单的为文本行显示操作。\n",
    "\n",
    "主要涉及的命令(**command**)有三个\n",
    "\n",
    "`cat 显示文本文件内容\n",
    "tail 从文本末尾开始，显示文本内容\n",
    "head 从文本开头开始，显示文本内容`\n"
   ]
  },
  {
   "cell_type": "markdown",
   "metadata": {},
   "source": [
    "## 1 显示文本文件内容\n",
    "\n",
    "`cat`\n",
    "\n",
    "(concatenate)显示文本文件的内容。\n"
   ]
  },
  {
   "cell_type": "code",
   "execution_count": 16,
   "metadata": {},
   "outputs": [
    {
     "name": "stdout",
     "output_type": "stream",
     "text": [
      "Hi Everyone, I am the first line of this code\r\n",
      "And I am the second line!\r\n",
      "Here is the third line of the code!\r\n",
      "The fourth line at least is not the last one\r\n",
      "I am the fifth, but we call it the best"
     ]
    }
   ],
   "source": [
    "%%bash\n",
    "\n",
    "cat Shell_Practice_Sample  #打印Shell_Practice_Sample文件\n"
   ]
  },
  {
   "cell_type": "markdown",
   "metadata": {},
   "source": [
    "\n",
    "\n",
    "平时的`cat`命令的使用是方便我们查看部分的文本文档。\n",
    "\n",
    "因为`cat`命令相当于逐行打印文本内容，不涉及使用`vim`等软件的打开操作，不占用系统资源，而这个系统资源有时候是在服务器上操作必须要考虑的问题。\n",
    "\n",
    "---"
   ]
  },
  {
   "cell_type": "markdown",
   "metadata": {},
   "source": [
    "## 2 从文本末尾开始，显示文本内容\n",
    "\n",
    "`tail`\n",
    "\n",
    "从最后一行开始，显示文本内容。\n"
   ]
  },
  {
   "cell_type": "markdown",
   "metadata": {},
   "source": [
    "`tail`命令是指从本文文件的末尾开始打印文本内容\n",
    "\n",
    "对于我们而言，常用的方式是打印特定的倒数行。\n",
    "\n",
    "例如："
   ]
  },
  {
   "cell_type": "code",
   "execution_count": 17,
   "metadata": {},
   "outputs": [
    {
     "name": "stdout",
     "output_type": "stream",
     "text": [
      "Here is the third line of the code!\r\n",
      "The fourth line at least is not the last one\r\n",
      "I am the fifth, but we call it the best\n",
      "********************************\n",
      "t the best"
     ]
    }
   ],
   "source": [
    "%%bash\n",
    "\n",
    "tail -n3 Shell_Practice_Sample  #打印Shell_Practice_Sample的倒数三行\n",
    "\n",
    "echo\n",
    "echo '********************************'\n",
    "\n",
    "tail -c10 Shell_Practice_Sample  #打印Shell_Practice_Sample的倒数的10个字符"
   ]
  },
  {
   "cell_type": "markdown",
   "metadata": {},
   "source": [
    "---\n",
    "\n",
    "## 3 从文本开头开始，显示文本内容\n",
    "\n",
    "`head`\n",
    "\n",
    "从第一行开始，显示文本内容。\n"
   ]
  },
  {
   "cell_type": "markdown",
   "metadata": {},
   "source": [
    "`head`命令是指从本文文件的开头开始打印文本内容\n",
    "\n",
    "对于我们而言，常用的方式是打印特定的开始行内容。\n",
    "\n",
    "例如："
   ]
  },
  {
   "cell_type": "code",
   "execution_count": null,
   "metadata": {},
   "outputs": [],
   "source": [
    "%%bash\n",
    "\n",
    "head -n3 Shell_Practice_Sample  #打印Shell_Practice_Sample的开头三行\n",
    "\n",
    "echo '********************************'\n",
    "\n",
    "head -c10 Shell_Practice_Sample  #打印Shell_Practice_Sample的开头的10个字符"
   ]
  },
  {
   "cell_type": "markdown",
   "metadata": {},
   "source": [
    "---\n",
    "\n",
    "## * `cat` `head` `tail`命令和其他命令的组合\n",
    "\n",
    "\n",
    "**对于cat/head/tail命令，我们常用的方式是利用pipeline (后面会提到) 和 其他的 命令进行结合，以便于进行快速的查找，定位等等**\n",
    "\n",
    "\n",
    "举个例子：\n",
    "\n",
    "* *注：我们在这里使用了管道和排序命令，在后面会有涉及*"
   ]
  },
  {
   "cell_type": "code",
   "execution_count": 18,
   "metadata": {},
   "outputs": [
    {
     "name": "stdout",
     "output_type": "stream",
     "text": [
      "USER       PID %CPU %MEM    VSZ   RSS TTY      STAT START   TIME COMMAND\n",
      "root         1  0.0  0.0   8892   280 ?        Ssl  09:54   0:00 /init\n",
      "root        10  0.0  0.0   8900   188 tty1     Ss   09:54   0:00 /init\n",
      "********************************\n",
      "huadanf+   514  0.0  0.0  14804  1188 tty2     S    16:17   0:00 grep hongyu\n",
      "********************************\n",
      "124 Intro_Numpy.ipynb\n",
      "********************************\n",
      "Shell_Tutorial.ipynb\n"
     ]
    }
   ],
   "source": [
    "%%bash\n",
    "\n",
    "ps -aux | sort -nk 2 | head -n 3                   # 查看此时服务上所有的进程，并且按照PID排列, 显示最小的2个PID进程\n",
    "\n",
    "echo '********************************'\n",
    "\n",
    "ps -aux | grep 'hongyu' | sort -nk 3 | head -n 3   # 查看所有hongyu名下的进程，并且按照CPU的占用进行排序，显示前三个\n",
    "\n",
    "echo '********************************'\n",
    "\n",
    "ls *.ipynb -s | sort -k 1 | tail -n 1              # 查看当前目录下全部的ipynb文件，按照其大小排序，显示最后（最大）的文件          \n",
    "\n",
    "echo '********************************'\n",
    "\n",
    "ls *.ipynb -t | sort | tail -n 1                  # 查看当前目录下全部的ipynb文件，按照其时间顺序排序，显示最新的文件\n"
   ]
  },
  {
   "cell_type": "markdown",
   "metadata": {},
   "source": [
    "---"
   ]
  },
  {
   "cell_type": "markdown",
   "metadata": {},
   "source": [
    "\n",
    "## IV. 其他常用操作\n",
    "\n",
    "此处的文件操作是指在命令行界面(CLI)常用的一些其他操作。\n",
    "\n",
    "主要涉及的命令(**command**)有三个\n",
    "\n",
    "`clear     清除屏幕显示\n",
    " tar       对文件或者文件夹进行压缩和解压缩\n",
    " history   显示在shell中输入的命令历史`\n",
    "\n"
   ]
  },
  {
   "cell_type": "markdown",
   "metadata": {},
   "source": [
    "## 1 清除屏幕显示\n",
    "\n",
    "`clear`\n",
    "\n",
    "清除屏幕上已经显示的全部内容\n"
   ]
  },
  {
   "cell_type": "code",
   "execution_count": 19,
   "metadata": {},
   "outputs": [
    {
     "name": "stdout",
     "output_type": "stream",
     "text": [
      "USER       PID %CPU %MEM    VSZ   RSS TTY      STAT START   TIME COMMAND\n",
      "root         1  0.0  0.0   8892   280 ?        Ssl  09:54   0:00 /init\n",
      "root        10  0.0  0.0   8900   188 tty1     Ss   09:54   0:00 /init\n",
      "huadanf+    11  0.0  0.0  16920  3492 tty1     S    09:54   0:01 -bash\n",
      "root       523  0.0  0.0   8904   228 tty2     Ss   16:19   0:00 /init\n",
      "huadanf+   524  0.0  0.0  15704  1992 tty2     S    16:19   0:00 -bash\n",
      "huadanf+   542  0.0  0.0  17648  2040 tty2     R    16:19   0:00 ps -aux\n"
     ]
    }
   ],
   "source": [
    "%%bash\n",
    "\n",
    "ps -aux"
   ]
  },
  {
   "cell_type": "code",
   "execution_count": 20,
   "metadata": {},
   "outputs": [
    {
     "name": "stdout",
     "output_type": "stream",
     "text": [
      "\u001b[3J\u001b[H\u001b[2J"
     ]
    }
   ],
   "source": [
    "%%bash\n",
    "\n",
    "ps -aux | clear"
   ]
  },
  {
   "cell_type": "markdown",
   "metadata": {},
   "source": [
    "以上为示意，具体的应用场景是在服务器端的时候，我们经过一些命令的查询和读取我们已经得到了相关的信息，这时候我们需要用`clear`命令来进行整个terminal页面的清空处理，以便于我们进行下一步的操作。\n",
    "\n",
    "---"
   ]
  },
  {
   "cell_type": "markdown",
   "metadata": {},
   "source": [
    "## 2 压缩或者解压缩处理\n",
    "\n",
    "`tar`\n",
    "\n",
    "(tape archive)对文件或者文件夹进行打包或者解压缩，其文件或文件夹可以是本地的，也可以是在某个地址之下的。\n"
   ]
  },
  {
   "cell_type": "markdown",
   "metadata": {},
   "source": [
    "我们的程序包中生成的文件往往都是许多文件在一起的，在进行传输的时候会带来各种的不便\n",
    "\n",
    "打包和解压缩也是比较日常的操作之一\n",
    "\n",
    "`tar`命令就是我们用来打包和解压的命令\n",
    "\n",
    "     -zcvf 选项代表创建压缩文件\n",
    "\n",
    "     -zxvf 选项代表解压文件\n",
    "\n"
   ]
  },
  {
   "cell_type": "code",
   "execution_count": 21,
   "metadata": {},
   "outputs": [
    {
     "name": "stdout",
     "output_type": "stream",
     "text": [
      "Shell_Practice_Sample\n",
      "Shell_Practice_Sample\n"
     ]
    }
   ],
   "source": [
    "%%bash\n",
    "\n",
    "tar -zcvf Shell_Practice_Sample.tar Shell_Practice_Sample  \n",
    "\n",
    "#创建一个Shell_Practice_Sample.tar的压缩文件，将Shell_Practice_Sample压缩进去\n",
    "\n",
    "mkdir Another_Location\n",
    "\n",
    "cd Another_Location\n",
    "\n",
    "#创建一个新的文件夹Another_Location，并切换工作目录到这个文件夹\n",
    "\n",
    "tar -zxvf ../Shell_Practice_Sample.tar \n",
    "\n",
    "#将Shell_Practice_Sample.tar 文件夹解压出来\n",
    "\n"
   ]
  },
  {
   "cell_type": "markdown",
   "metadata": {},
   "source": [
    "**我们创建了 一个压缩文件 Shell_Practice_Sample.tar 和 一个文件夹 Another_Location ， 并且我们将压缩文件解压到了新建的文件夹内。**\n"
   ]
  },
  {
   "cell_type": "code",
   "execution_count": 22,
   "metadata": {},
   "outputs": [
    {
     "name": "stdout",
     "output_type": "stream",
     "text": [
      "Another_Location\n",
      "Example_1.png\n",
      "Example_2.png\n",
      "Example_3.png\n",
      "Example_4.png\n",
      "Example_5.png\n",
      "Example_6.png\n",
      "Intro.ipynb\n",
      "Intro.pdf\n",
      "Intro_JupyterLab.ipynb\n",
      "Intro_JupyterLab.pdf\n",
      "Intro_Numpy.ipynb\n",
      "Intro_Python.ipynb\n",
      "SAC_1.png\n",
      "SAC_10.png\n",
      "SAC_11.png\n",
      "SAC_12.png\n",
      "SAC_13.png\n",
      "SAC_14.png\n",
      "SAC_2.png\n",
      "SAC_3.png\n",
      "SAC_4.png\n",
      "SAC_5.png\n",
      "SAC_6.png\n",
      "SAC_7.png\n",
      "SAC_8.png\n",
      "SAC_9.png\n",
      "SAC_Docs.pdf\n",
      "SAC_Header_Doc.pdf\n",
      "SAC_Tutorial.ipynb\n",
      "Shell_Practice\n",
      "Shell_Practice_Sample\n",
      "Shell_Practice_Sample.tar\n",
      "Shell_Practice_Sample_Line2to3\n",
      "Shell_Practice_Sample_With_a\n",
      "Shell_Tutorial.ipynb\n",
      "error.png\n",
      "********************************\n",
      "Shell_Practice_Sample\n"
     ]
    }
   ],
   "source": [
    "%%bash\n",
    "\n",
    "ls \n",
    "\n",
    "echo '********************************'\n",
    "\n",
    "ls Another_Location\n"
   ]
  },
  {
   "cell_type": "markdown",
   "metadata": {},
   "source": [
    "## 3 显示Shell命令历史\n",
    "\n",
    "`history`\n",
    "\n",
    "查看之前输入的所有的shell命令，无论是否报错。\n"
   ]
  },
  {
   "cell_type": "code",
   "execution_count": 24,
   "metadata": {},
   "outputs": [],
   "source": [
    "%%bash\n",
    "\n",
    "history"
   ]
  },
  {
   "cell_type": "markdown",
   "metadata": {},
   "source": [
    "---\n",
    "\n",
    "## V. 管道(Pipeline) 和 重定向 (Redirecting)\n",
    "\n",
    "\"|\" 管道命令，将管道前的命令的输出作为管道后命令的输入，可以在一行命令中**多次使用**。\n",
    "\n",
    "\">\" 重定向命令，将重定向之前的命令输入写入命令之后的文件，写入操作时为**覆盖**。\n",
    "\n",
    "\">>\" 重定向命令，将重定向之前的命令输入写入命令之后的文件，写入操作时为**添加**。"
   ]
  },
  {
   "cell_type": "markdown",
   "metadata": {},
   "source": [
    "## 1 管道命令\n",
    "\n",
    "`|`\n",
    "\n",
    "管道命令，**将管道前的命令的输出作为管道后命令的输入**，可以在一行命令中多次使用。\n",
    "\n",
    "在服务器端，这是我们非常常用的命令。\n",
    "\n",
    "以下给出几个例子:"
   ]
  },
  {
   "cell_type": "code",
   "execution_count": 25,
   "metadata": {},
   "outputs": [
    {
     "name": "stdout",
     "output_type": "stream",
     "text": [
      "4\n",
      "********************************\n",
      "cp Shell_Practice_Sample Hi.ipynb\n",
      "cp Shell_Practice_Sample And.ipynb\n",
      "cp Shell_Practice_Sample Here.ipynb\n",
      "cp Shell_Practice_Sample The.ipynb\n",
      "cp Shell_Practice_Sample I.ipynb\n",
      "********************************\n",
      "USER       PID %CPU %MEM    VSZ   RSS TTY      STAT START   TIME COMMAND\n",
      "root         1  0.0  0.0   8892   312 ?        Ssl  16:24   0:00 /init\n",
      "root        10  0.0  0.0   8904   232 tty1     Ss   16:24   0:00 /init\n",
      "********************************\n"
     ]
    }
   ],
   "source": [
    "%%bash\n",
    "\n",
    "cat Shell_Practice_Sample | grep 'a' | wc -l \n",
    "\n",
    "#打印Shell_Practice_Sample，从中找出含有字母a的行，然后统计一共有多少行\n",
    "\n",
    "echo '********************************'\n",
    "\n",
    "cat Shell_Practice_Sample | awk '{ print \"cp Shell_Practice_Sample \"$1\".ipynb\"}' \n",
    "\n",
    "#打印Shell_Practice_Sample，以空格为间隔打印出每行的第一个单词，然后按照格式输出\n",
    "\n",
    "echo '********************************'\n",
    "\n",
    "ps -aux | sort -nk 2 | head -n 3                   \n",
    "\n",
    "# 查看此时服务上所有的进程，并且按照PID排列, 显示最小的2个PID进程\n",
    "\n",
    "echo '********************************'"
   ]
  },
  {
   "cell_type": "markdown",
   "metadata": {},
   "source": [
    "---\n",
    "\n",
    "**通过管道命令，我们可以轻易地组合任何命令，并且这行可以是无限长的，也就是说我们可以使用无限次的管道命令。**\n",
    "\n",
    "**这极大的提高了我们使用shell命令的效率，让我们可以很轻松的实现，查找，定位，排序，筛选，修改等操作**\n",
    "\n",
    "---"
   ]
  },
  {
   "cell_type": "markdown",
   "metadata": {},
   "source": [
    "## 2.1 重定向 (Redirecting)\n",
    "\n",
    "`>` \n",
    "\n",
    "重定向命令，将重定向之前的命令输入写入命令之后的文件，写入操作时为覆盖。\n"
   ]
  },
  {
   "cell_type": "markdown",
   "metadata": {},
   "source": [
    "## 2.2 重定向 (Redirecting)\n",
    "\n",
    "`>>` \n",
    "\n",
    "重定向命令，将重定向之前的命令输入写入命令之后的文件，写入操作时为添加。\n"
   ]
  },
  {
   "cell_type": "code",
   "execution_count": 26,
   "metadata": {},
   "outputs": [
    {
     "name": "stdout",
     "output_type": "stream",
     "text": [
      "Hi Everyone, I am the first line of this code\r\n",
      "And I am the second line!\r\n",
      "The fourth line at least is not the last one\r\n",
      "I am the fifth, but we call it the best\n",
      "********************************\n",
      "Test_Sample\n",
      "And I am the second line!\r\n",
      "Here is the third line of the code!\r\n",
      "the best"
     ]
    }
   ],
   "source": [
    "%%bash\n",
    "\n",
    "cat Shell_Practice_Sample | grep 'a' > Shell_Practice_Sample_With_a\n",
    "\n",
    "#打印Shell_Practice_Sample，从中找出含有字母a的行,并覆盖写入Shell_Practice_Sample_With_a\n",
    "\n",
    "cat Shell_Practice_Sample_With_a \n",
    "\n",
    "# 显示Shell_Practice_Sample_With_a \n",
    "\n",
    "echo '********************************'\n",
    "\n",
    "echo 'Test_Sample' > Shell_Practice_Sample_Line2to3\n",
    "\n",
    "#将‘Test_Sample’覆盖写入Shell_Practice_Sample_Line2to3\n",
    "\n",
    "cat Shell_Practice_Sample | head -n 3 | tail -n 2 >> Shell_Practice_Sample_Line2to3\n",
    "\n",
    "#打印Shell_Practice_Sample，从中找出第二行到第三行,添加写入Shell_Practice_Sample_Line2to3\n",
    "\n",
    "cat Shell_Practice_Sample | tail -c 8 >> Shell_Practice_Sample_Line2to3\n",
    "\n",
    "#打印Shell_Practice_Sample, 从中找出最后八个字符，添加写入Shell_Practice_Sample_Line2to3\n",
    "\n",
    "cat Shell_Practice_Sample_Line2to3\n",
    "\n",
    "# 显示Shell_Practice_Sample_Line2to3"
   ]
  },
  {
   "cell_type": "markdown",
   "metadata": {},
   "source": [
    "## 管道(Pipeline)和重定向(Redirecting)的区别\n",
    "\n",
    "管道(Pipeline)和重定向(Redirecting)是我们在服务上非常频繁使用的命令之一，同时这两者有时候又会让人困惑，因为两者都是将符号之前的信息输入到符号之后，这里重点讲一下区别：\n",
    "\n",
    "1. 管道(Pipeline) `|` 指的是**将前面命令的输出作为后面命令的输入**，也就是说前面的命令是要有输出的，并且通常后面的命令也要要求输入。\n",
    "\n",
    "2. 重定向(Redirecting) `>`/`>>` 指的是**将前面命令的输出写入/添加到某个文件**，后面通常不涉及传递给后面命令输入。\n"
   ]
  },
  {
   "cell_type": "markdown",
   "metadata": {},
   "source": [
    "---\n",
    "\n",
    "## * 我们为什么还要继续使用Shell？\n",
    "\n",
    "\n",
    "1. Linux原生，无需安装与配置\n",
    "\n",
    "    在任何的linux服务器中都内置了shell命令，无需额外的配置和安装，并且在服务器端的大多数操作并不依赖图形界面，根据以上列出的命令，我们完全可以实现，而且是更高效的实现路径变换，文件查找，筛选，修改，删除等操作。所以学习Shell命令在地球物理学中还是必须且有意义的。\n",
    "\n",
    "\n",
    "2. 结合awk等文本处理器，高效且易于编写\n",
    "\n",
    "    本次课程的程序部分都是基于python进行了改写，诚然，作为通用的脚本语言，python广受大家的喜爱，事实上对于地球物理学的应用来说，我们的shell环境下操作和文本处理，是完全可以更高效的编写和实现的。随着使用和学习的深入，将Shell，awk,sed等嵌合在一起的编写脚本会远比通用的python脚本要容易编写的多，并且由于编译和执行效率上存在损失，实际工作中结合shell的相关文本流处理显著的快不少。"
   ]
  },
  {
   "cell_type": "markdown",
   "metadata": {},
   "source": [
    "## 小练习 \n",
    "\n",
    "1. 在目录下创建一个文件夹，名字叫做 Shell_Homework\n",
    "\n",
    "\n",
    "2. 在Shell_Homework目录下创建一个文件，文件叫做Shell_Homework_Summary,将Shell_Homework_Summary的绝对路径存入Shell_Homework_Summary作为第一行\n",
    "\n",
    "\n",
    "3. 复制3份Shell_Homework_Summary在Shell_Homework下，取名为Backup_1/Backup_2/Backup_3\n",
    "\n",
    "\n",
    "4. 列出Shell_Homework中所有文件，并添加写入到Shell_Homework_Summary\n",
    "\n",
    "\n",
    "5. 将中所有文件进行打包，打包到一个叫做Shell_Homework.tar的文件中\n",
    "\n",
    "\n",
    "6. 创建一个新的文件夹Shell_Homework_Finished,将上一步的Shell_Homework.tar解压到Shell_Homework_Finished中\n",
    "\n",
    "\n",
    "7. 切换到Shell_Homework目录，显示Shell_Homework_Summary的第2行，添加到Shell_Homework_Summary文件中\n",
    "\n",
    "\n",
    "8. 删除Backup_2文件\n",
    "\n",
    "\n",
    "9. 将Backup_3文件重命名为Shell_Homework_Backup_3\n",
    "\n",
    "\n",
    "10. 列出Shell_Homework中所有文件，添加写入到Shell_Homework_Finished的Shell_Homework_Summary文件中"
   ]
  },
  {
   "cell_type": "markdown",
   "metadata": {},
   "source": [
    "## 其他值得学习的命令\n",
    "\n",
    "`sort`   排序命令\n",
    "\n",
    "`grep`   查找关键词\n",
    "\n",
    "`ps`     查看进程\n",
    "\n",
    "`du`     查看磁盘占用\n",
    "\n",
    "`awk`    *文本行编辑\n",
    "\n",
    "`sed`    *文本流处理\n",
    "\n",
    "`echo`   显示到标准输出\n",
    "\n",
    "`find`   查找文件\n",
    "\n",
    "`wc`     计数\n",
    "\n",
    "`chmod`  修改权限"
   ]
  },
  {
   "cell_type": "markdown",
   "metadata": {},
   "source": [
    "## 有问题？ 请联系我！\n",
    "\n",
    "Hongyu Xiao： hongyu.xiao@hotmail.com"
   ]
  },
  {
   "cell_type": "code",
   "execution_count": null,
   "metadata": {},
   "outputs": [],
   "source": []
  }
 ],
 "metadata": {
  "kernelspec": {
   "display_name": "Python [conda env:root]",
   "language": "python",
   "name": "conda-root-py"
  },
  "language_info": {
   "codemirror_mode": {
    "name": "ipython",
    "version": 3
   },
   "file_extension": ".py",
   "mimetype": "text/x-python",
   "name": "python",
   "nbconvert_exporter": "python",
   "pygments_lexer": "ipython3",
   "version": "3.7.6"
  },
  "varInspector": {
   "cols": {
    "lenName": 16,
    "lenType": 16,
    "lenVar": 40
   },
   "kernels_config": {
    "python": {
     "delete_cmd_postfix": "",
     "delete_cmd_prefix": "del ",
     "library": "var_list.py",
     "varRefreshCmd": "print(var_dic_list())"
    },
    "r": {
     "delete_cmd_postfix": ") ",
     "delete_cmd_prefix": "rm(",
     "library": "var_list.r",
     "varRefreshCmd": "cat(var_dic_list()) "
    }
   },
   "types_to_exclude": [
    "module",
    "function",
    "builtin_function_or_method",
    "instance",
    "_Feature"
   ],
   "window_display": false
  }
 },
 "nbformat": 4,
 "nbformat_minor": 4
}
