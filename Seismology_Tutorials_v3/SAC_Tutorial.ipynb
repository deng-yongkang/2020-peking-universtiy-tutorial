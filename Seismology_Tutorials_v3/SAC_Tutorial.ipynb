{
 "cells": [
  {
   "cell_type": "markdown",
   "metadata": {},
   "source": [
    "# 地震学SAC常用命令教程 \n",
    "\n",
    "Author：Hongyu Xiao\n",
    "\n",
    "    Graduate Student\n",
    "    University of Illinois at Urbana–Champaign\n",
    "\n",
    "Assistant：Xuezhen Zhang\n",
    "    \n",
    "    Undergraduate Student\n",
    "    Sun Yat-Sen University\n",
    "    August, 2020\n",
    "\n",
    "*Based on SAC manual.[(Seisman: https://github.com/seisman/SAC_Docs_zh)](https://github.com/seisman/SAC_Docs_zh)*\n",
    "\n",
    "\n",
    "---"
   ]
  },
  {
   "cell_type": "markdown",
   "metadata": {},
   "source": [
    "## **如果有遇到问题的话**\n",
    "\n",
    "欢迎随时提问！或者将问题发在讨论区！\n",
    "\n",
    "---"
   ]
  },
  {
   "cell_type": "markdown",
   "metadata": {},
   "source": [
    "# SAC 部分学习预期\n",
    "\n",
    "\n",
    "## * 了解如何读取和查看sac文件\n",
    "\n",
    "\n",
    "## * 了解如何查看和更改header\n",
    "\n",
    "\n",
    "## * 了解如何去除仪器响应等常用操作\n",
    "\n",
    "\n",
    "## * 了解如何保存\n",
    "\n",
    "\n",
    "## * 脚本调用SAC\n",
    "\n",
    "\n",
    "\n",
    "---"
   ]
  },
  {
   "cell_type": "markdown",
   "metadata": {},
   "source": [
    "## 1. SAC 是什么 ?\n",
    "\n",
    "\n",
    "Seismic Analysis Code，简写为 SAC，是天然地震学领域使用最广泛的数据分析软件包之一。\n",
    "\n",
    "\n",
    "SAC 是一个软件，主要在命令行下操作，通过各种命令来处理时间序列数据，尤其是地震波形数据，同时也提供了一个简单的图形界面，使得用户可以方便地查看波形并拾取震相。\n",
    "\n",
    "SAC 同时还是一种数据格式，定义了以何种方式存储时间序列数据及其元数据。 SAC 格式是地震学的标准数据格式之一，有很多工具可以实现 SAC 格式与其它地震数据格式间的相互转换\n",
    "\n",
    "---\n",
    "\n",
    "本课程的SAC部分程序被嵌入代码内部，这里不介绍SAC的相关安装，只对相关常用操作进行简介"
   ]
  },
  {
   "cell_type": "markdown",
   "metadata": {},
   "source": [
    "## 2. SAC 中数据读取和保存\n",
    "\n",
    "### SAC 的读命令是read（简写为 r），写命令为write（简写为 w）。\n",
    "\n",
    "以下面为例(dg: data generator)\n",
    "\n",
    "![SAC Read](SAC_1.png)\n",
    "\n",
    "SAC 中，在指定文件名的时候，可以使用绝对路径，也可以使用相对路径。可以使用其全名，也可以使用通配符。 \n",
    "\n",
    "SAC 的通配符与 Unix 定义的通配符一致\n",
    "\n",
    "![SAC Read](SAC_2.png)\n",
    "\n",
    "将数据读入到内存中之后，对内存中的数据做一些处理，然后就需要将内存中的数据写回到磁盘中：\n",
    "\n",
    "![SAC Write](SAC_3.png)"
   ]
  },
  {
   "cell_type": "markdown",
   "metadata": {},
   "source": [
    "## 3. SAC 中数据绘制\n",
    "\n",
    "\n",
    "SAC 中有四个常用的绘图命令，分别是plot(p)、 plot1(p1) 、 plot2(p2)、 plotpk。这里只介绍最基础的 绘图命令\n",
    "\n",
    "![SAC Plot](SAC_4.png)\n",
    "\n",
    "这里使用p，就是指的plot\n",
    "\n",
    "这里会将读入的文件依次画出，但是一次只会画出一个，需要按回车进行切换，而且只能依次向后切换。\n",
    "\n",
    "### plot1 命令会绘制内存块中的所有波形数据，在一个窗口中一次显示多个波形，这些波形共用一个 X 轴（时间轴），但拥有单独的 Y 轴。\n",
    "\n",
    "![SAC Plot](SAC_5.png)\n",
    "```bash\n",
    "SAC> p1 perplot 10\n",
    "```"
   ]
  },
  {
   "cell_type": "markdown",
   "metadata": {},
   "source": [
    "## 4. SAC 中header查看及更改\n",
    "\n",
    "### 在SAC中，lh 或者 listhdr(list header)可以列出SAC文件中所有的header信息\n",
    "\n",
    "![SAC Plot](SAC_6.png)\n",
    "\n",
    "\n",
    "列出开始(b: begin)和结束时间(e: end)\n",
    "\n",
    "![SAC Plot](SAC_7.png)\n",
    "\n",
    "\n",
    "列出指定的SAC文件中header信息(station name台站名、station latitude台站纬度、station longitude台站经度、station elevation台站海拔、station depth台站深度)\n",
    "\n",
    "![SAC Plot](SAC_8.png)\n",
    "\n",
    "\n",
    "\n",
    "\n",
    "---\n",
    "\n",
    "\n",
    "### 在SAC中，ch或者chnhdr(change header)可以更改header信息\n",
    "\n",
    "![SAC Plot](SAC_9.png)\n",
    "\n",
    "\n",
    "下面是例子\n",
    "\n",
    "![SAC Plot](SAC_10.png)\n",
    "\n",
    "### 所有的header的信息可以参考[这里](SAC_Header_Doc.pdf)\n",
    "\n",
    "\n",
    "\n",
    "---"
   ]
  },
  {
   "cell_type": "markdown",
   "metadata": {},
   "source": [
    "## 5. 常用操作及去除仪器响应\n",
    "\n",
    "\n",
    "去均值、去线性趋势和波形尖灭\n",
    "\n",
    "### rmean、 rtrend、 taper 命令\n",
    "\n",
    "\n",
    "以下是例子，fg(function generator)是指生成一个波形\n",
    "\n",
    "![SAC Plot](SAC_11.png)\n",
    "\n",
    "去除仪器响应\n",
    "\n",
    "### transfer 命令，corner frequency可以自己定义\n",
    "\n",
    "以下是例子，RESP 方法\n",
    "\n",
    "![SAC Plot](SAC_12.png)"
   ]
  },
  {
   "cell_type": "markdown",
   "metadata": {},
   "source": [
    "## 6. 脚本调用SAC\n",
    "\n",
    "### Bash 中调用 SAC\n",
    "\n",
    "SAC中的编程较为简陋，我们可以利用其他脚本进行SAC调用以提高灵活性\n",
    "\n",
    "以下是例子\n",
    "\n",
    "![SAC_Plot](SAC_13.png)\n",
    "\n",
    "\n",
    "脚本中从“sac << EOF”开始到“EOF”的全部内容，都会被 Bash 传递给 SAC\n",
    "\n",
    "SAC会逐一解释并执行每行命令，EOF(End of file), 退出SAC，输入q(Quit)。\n",
    "\n",
    "Bash 具有更灵活的条件判断和循环控制功能,比如下面的例子进行批量处理\n",
    "\n",
    "![SAC_Plot](SAC_14.png)\n",
    "\n",
    "\n",
    "---\n",
    "\n",
    "\n",
    "* 以上给出的为Bash的例子，事实上，除了Bash以外，我们还可以使用perl,python或者其他脚本进行sac的调用，但是事实上如果想以相对少的代码量实现常用的比如修改事件信息，进行滤波,去除仪器响应等，Bash和awk结合是相对便捷的选择。\n",
    "* 更加详细的操作请参考[文档](SAC_Docs.pdf)"
   ]
  },
  {
   "cell_type": "code",
   "execution_count": null,
   "metadata": {},
   "outputs": [],
   "source": []
  }
 ],
 "metadata": {
  "kernelspec": {
   "display_name": "Python 3",
   "language": "python",
   "name": "python3"
  },
  "language_info": {
   "codemirror_mode": {
    "name": "ipython",
    "version": 3
   },
   "file_extension": ".py",
   "mimetype": "text/x-python",
   "name": "python",
   "nbconvert_exporter": "python",
   "pygments_lexer": "ipython3",
   "version": "3.7.7"
  },
  "varInspector": {
   "cols": {
    "lenName": 16,
    "lenType": 16,
    "lenVar": 40
   },
   "kernels_config": {
    "python": {
     "delete_cmd_postfix": "",
     "delete_cmd_prefix": "del ",
     "library": "var_list.py",
     "varRefreshCmd": "print(var_dic_list())"
    },
    "r": {
     "delete_cmd_postfix": ") ",
     "delete_cmd_prefix": "rm(",
     "library": "var_list.r",
     "varRefreshCmd": "cat(var_dic_list()) "
    }
   },
   "types_to_exclude": [
    "module",
    "function",
    "builtin_function_or_method",
    "instance",
    "_Feature"
   ],
   "window_display": false
  }
 },
 "nbformat": 4,
 "nbformat_minor": 4
}
