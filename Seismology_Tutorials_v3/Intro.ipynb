{
 "cells": [
  {
   "cell_type": "markdown",
   "metadata": {},
   "source": [
    "# 北京大学暑期课程实验部分\n",
    "\n",
    "# 编程基础内容介绍\n",
    "\n",
    "Author：Hongyu Xiao\n",
    "\n",
    "    Graduate Student\n",
    "    University of Illinois at Urbana–Champaign\n",
    "\n",
    "Assistant：Xuezhen Zhang\n",
    "    \n",
    "    Undergraduate Student\n",
    "    Sun Yat-Sen University\n",
    "    August, 2020\n",
    "\n",
    "---\n",
    "\n"
   ]
  },
  {
   "cell_type": "markdown",
   "metadata": {},
   "source": [
    "## **如果有遇到问题的话**\n",
    "\n",
    "欢迎随时提问！或者将问题发在讨论区！\n"
   ]
  },
  {
   "cell_type": "markdown",
   "metadata": {},
   "source": [
    "## 内容列表\n",
    "\n",
    "### 1. Jupyter Notebook 使用介绍\n",
    "\n",
    "### 2. Python 基础\n",
    "\n",
    "### 3. Linux/Shell 常用命令\n",
    "\n",
    "### 4. SAC 相关命令介绍\n",
    "\n",
    "---\n"
   ]
  },
  {
   "cell_type": "markdown",
   "metadata": {},
   "source": [
    "### 1.0 什么是Jupyter Notebook ？ 为什么要使用 Jupyter Notebook？\n"
   ]
  },
  {
   "cell_type": "markdown",
   "metadata": {},
   "source": [
    "### 1.1 如何安装 Jupyter Notebook？\n"
   ]
  },
  {
   "cell_type": "markdown",
   "metadata": {},
   "source": [
    "### 1.2 如何运行 Jupyter Notebook？\n"
   ]
  },
  {
   "cell_type": "markdown",
   "metadata": {},
   "source": [
    "### 1.3 如何使用暑期课程 Jupyter Notebook 教程？\n",
    "\n",
    "---"
   ]
  },
  {
   "cell_type": "markdown",
   "metadata": {},
   "source": [
    "\n",
    "\n",
    "## 2 Python简介目录\n",
    "\n",
    "### 2.1 Types\n",
    "\n",
    "### 2.2 Names and Values\n",
    "\n",
    "### 2.3 Indexing\n",
    "\n",
    "### 2.4 Control flow\n",
    "\n",
    "### 2.5 Functions\n",
    "\n",
    "### 2.6 Objects\n",
    "---\n"
   ]
  },
  {
   "cell_type": "markdown",
   "metadata": {},
   "source": [
    "### 3.0 什么是Shell ？\n",
    "\n",
    "### 3.1 Shell 下的目录操作\n",
    "\n",
    "    3.1.1 ls\n",
    "\n",
    "    3.1.2 pwd\n",
    "\n",
    "    3.1.3 cd \n",
    "\n",
    "### 3.2 Shell 下的文件操作操作\n",
    "\n",
    "    3.2.1 mkdir\n",
    "    \n",
    "    3.2.2 cp\n",
    "    \n",
    "    3.2.3 mv\n",
    "    \n",
    "    3.2.4 rm\n",
    "\n",
    "\n",
    "### 3.3 Shell 下的简单文本行操作\n",
    "\n",
    "    3.3.1 cat\n",
    "    \n",
    "    3.3.2 tail\n",
    "    \n",
    "    3.3.3 head\n",
    "\n",
    "### 3.4 Shell 下的其他常用操作\n",
    "\n",
    "    3.4.1 clear\n",
    "    \n",
    "    3.4.2 tar\n",
    "    \n",
    "    3.4.3 history\n",
    "\n",
    "### 3.5 Shell 下的管道(Pipeline ) 和 重定向 (Redirecting)\n",
    "\n",
    "    3.5.1 \"|\"\n",
    "\n",
    "    3.5.2 \">\"\n",
    "\n",
    "    3.5.3 \">>\"\n",
    "\n",
    "### 3.6 Shell 下的官方文档\n",
    "\n",
    "    3.6.1 man\n",
    "    \n",
    "    3.6.2 --help\n",
    "\n",
    "### 3.7 Shell 下的有效单行命令\n",
    "\n",
    "\n",
    "---"
   ]
  },
  {
   "cell_type": "markdown",
   "metadata": {},
   "source": [
    "### 4.0 SAC 是什么\n",
    "\n",
    "### 4.1 SAC 中数据读取\n",
    "\n",
    "### 4.2 SAC 中数据绘制\n",
    "\n",
    "### 4.3 SAC 中header查看及更改\n",
    "\n",
    "### 4.4 脚本调用SAC"
   ]
  },
  {
   "cell_type": "code",
   "execution_count": null,
   "metadata": {},
   "outputs": [],
   "source": []
  }
 ],
 "metadata": {
  "kernelspec": {
   "display_name": "Python 3",
   "language": "python",
   "name": "python3"
  },
  "language_info": {
   "codemirror_mode": {
    "name": "ipython",
    "version": 3
   },
   "file_extension": ".py",
   "mimetype": "text/x-python",
   "name": "python",
   "nbconvert_exporter": "python",
   "pygments_lexer": "ipython3",
   "version": "3.7.7"
  },
  "varInspector": {
   "cols": {
    "lenName": 16,
    "lenType": 16,
    "lenVar": 40
   },
   "kernels_config": {
    "python": {
     "delete_cmd_postfix": "",
     "delete_cmd_prefix": "del ",
     "library": "var_list.py",
     "varRefreshCmd": "print(var_dic_list())"
    },
    "r": {
     "delete_cmd_postfix": ") ",
     "delete_cmd_prefix": "rm(",
     "library": "var_list.r",
     "varRefreshCmd": "cat(var_dic_list()) "
    }
   },
   "types_to_exclude": [
    "module",
    "function",
    "builtin_function_or_method",
    "instance",
    "_Feature"
   ],
   "window_display": false
  }
 },
 "nbformat": 4,
 "nbformat_minor": 4
}
