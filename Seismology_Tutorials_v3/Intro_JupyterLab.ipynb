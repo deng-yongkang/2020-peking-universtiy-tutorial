{
 "cells": [
  {
   "cell_type": "markdown",
   "metadata": {},
   "source": [
    "# **北京大学暑期课程实验部分编程基础内容介绍**\n",
    "\n",
    "Author：Hongyu Xiao\n",
    "\n",
    "    Graduate Student\n",
    "    University of Illinois at Urbana–Champaign\n",
    "    \n",
    "Assistant：Xuezhen Zhang\n",
    "    \n",
    "    Undergraduate Student\n",
    "    Sun Yat-Sen University\n",
    "    August, 2020\n",
    "\n",
    "---\n",
    "\n"
   ]
  },
  {
   "cell_type": "markdown",
   "metadata": {},
   "source": [
    "## **如果有遇到问题的话**\n",
    "\n",
    "欢迎随时提问！或者将问题发在讨论区！\n",
    "\n",
    "---"
   ]
  },
  {
   "cell_type": "markdown",
   "metadata": {},
   "source": [
    "# Jupyter Notebook 部分学习预期\n",
    "\n",
    "## * 了解Jupyter Notebook, 并进行Jupyter Notebook的安装\n",
    "\n",
    "## * 了解基本的Jupyter Notebook使用方法和本教程的使用方法\n",
    "\n",
    "\n",
    "\n",
    "---"
   ]
  },
  {
   "cell_type": "markdown",
   "metadata": {},
   "source": [
    "### 1.0 什么是Jupyter Notebook ？ 为什么要使用 Jupyter Notebook？\n",
    "\n",
    "#### * 什么是Jupyter Notebook ？\n",
    "\n",
    "Jupyter Notebook的之前被叫做IPython Notebook, 是基于Python环境下的一套集成了代码执行，富文本编辑，数学符号，以及多媒体影音嵌入的交互环境。 这个项目广泛受到大家的喜爱，现在已经从单纯的Python基础发展成为更广泛的Jupyter Lab，你可以使用更多的语言在Jupyter里面运行，并且获得**实时的结果**。\n",
    "    \n",
    "这个工具是**免费的！**\n",
    "    \n",
    "\n",
    "\n",
    "#### * 为什么要使用 Jupyter Notebook ?\n",
    "\n",
    "我们写代码，运行代码一般的流程是：\n",
    "    \n",
    "        1 写代码 \n",
    "        2 编译 （2.1 报错 2.2 调试 2.3 再次报错 2.4 再次调试...）\n",
    "        3 查看屏幕的输出或者是输出文件\n",
    "    \n",
    "这个过程不便之处在于，我们在报错和调试的过程中，我们无法直观的实时看到程序中某一个或者某一些的变量或者中间输出文件，降低了我们编程的效率。Jupyter Notebook的cell类似于 Matlab中的cell功能，可以用来建离一定的调试断点，并且保存显示的输出。加上Jupyter Notebook支持Markdown语法而且对数学符号和多媒体的嵌入非常友好。**特别适合边学边试的了解程序运行的过程和结果。**\n",
    "\n",
    "---\n",
    "\n",
    "*举个例子*\n"
   ]
  },
  {
   "cell_type": "code",
   "execution_count": 1,
   "metadata": {},
   "outputs": [
    {
     "name": "stdout",
     "output_type": "stream",
     "text": [
      "欢迎参加北京大学暑期课\n"
     ]
    }
   ],
   "source": [
    "# 我是Python代码\n",
    "# 我是例子\n",
    "\n",
    "print (\"欢迎参加北京大学暑期课\")\n"
   ]
  },
  {
   "cell_type": "markdown",
   "metadata": {},
   "source": [
    "---\n",
    "\n",
    "你可以看到代码 `print (\"欢迎参加北京大学暑期课程\")` 并且运行它， 运行结果将会显示在这个cell的下方。\n",
    "\n",
    "而且你可以去尝试更改代码中的内容，例如你把 `print (\"欢迎参加北京大学暑期课程\")`改为 `print (\"北京大学今儿真热\")`，并且点击上方的运行\n",
    "\n",
    "---\n",
    "\n",
    "*修改一下例子*\n"
   ]
  },
  {
   "cell_type": "code",
   "execution_count": 2,
   "metadata": {},
   "outputs": [
    {
     "name": "stdout",
     "output_type": "stream",
     "text": [
      "北京大学今儿真热\n",
      "110.0\n"
     ]
    }
   ],
   "source": [
    "# 我是Python代码\n",
    "# 我是修改过的例子\n",
    "\n",
    "print (\"北京大学今儿真热\")\n",
    "\n",
    "# 检查中间输出值\n",
    "x = 10\n",
    "y = 100\n",
    "Z = x**2+y**(0.5) # Z = 110\n",
    "result = 3.1415**(Z**0.5)\n",
    "print(Z)"
   ]
  },
  {
   "cell_type": "markdown",
   "metadata": {},
   "source": [
    "---\n",
    "\n",
    "**在接下来教程中，我们希望大家可以充分利用这种交互性，对各种命令和程序进行自己的探索，以达到加深了解的的目的。**\n",
    "\n",
    "---"
   ]
  },
  {
   "cell_type": "markdown",
   "metadata": {},
   "source": [
    "### 1.1 如何安装 Jupyter Notebook 及相关 module？ \n",
    "\n",
    "对于本次的暑期课程，我们需要安装的工具和模块有\n",
    "\n",
    "* 工具： Anaconda / **Jupyter Notebook** \n",
    "\n",
    "    Anaconda： 这是一个模块管理工具，便于我们进行Python模块的管理\n",
    "\n",
    "    Jupyter Notebook： 交互运行工具\n",
    "    \n",
    "\n",
    "* Python Module： **Obspy / Scipy / Numpy / Matplotlib**\n",
    "\n",
    "    *注： 模块之间可能有依赖关系，anaconda会自动配置相关依赖*\n",
    "    \n",
    "---\n",
    "\n",
    "#### * 1.1.1 安装Anaconda (推荐，也可以用pip替代)\n",
    "\n",
    " **Windows**下请先开启WSL，并且安装Ubuntu\n",
    "1. 管理员权限打开 PowerShell. 在开始菜单中，输入PowerShell，右键Windows PowerShell选择管理员权限运行\n",
    "\n",
    "2. 在Windows PowerShell command window 中, 拷贝并复制以下代码以开启WSL功能:\n",
    "\n",
    "    `Enable-WindowsOptionalFeature -Online -FeatureName Microsoft-Windows-Subsystem-Linux`\n",
    " \n",
    " \n",
    "3. 打开微软商店，搜索Ubuntu，选择Ubuntu并进行安装\n",
    "\n",
    "\n",
    " **Windows**下Anaconda的安装    \n",
    "* 这里有[64-Bit Graphical Installer](https://mirrors.tuna.tsinghua.edu.cn/anaconda/archive/Anaconda3-2020.07-Windows-x86_64.exe)\n",
    "        \n",
    "* 这里有[32-Bit Graphical Installer](https://mirrors.tuna.tsinghua.edu.cn/anaconda/archive/Anaconda3-2020.07-Windows-x86.exe)\n",
    "    \n",
    "* 下载installer，管理员权限运行安装即可。\n",
    "        \n",
    "    \n",
    " **Mac**下Anaconda的安装\n",
    "    \n",
    "* 这里有[sh 文件](https://mirrors.tuna.tsinghua.edu.cn/anaconda/archive/Anaconda3-2020.07-MacOSX-x86_64.sh)\n",
    "        \n",
    "* 这里有[pkg 文件](https://mirrors.tuna.tsinghua.edu.cn/anaconda/archive/Anaconda3-2020.07-MacOSX-x86_64.pkg)\n",
    "    \n",
    "* 下载installer，管理员权限运行安装即可。\n",
    "        \n",
    "\n",
    "**Linux**下Anaconda的安装 \n",
    "        \n",
    "* 这里有[64-Bit Installer](https://mirrors.tuna.tsinghua.edu.cn/anaconda/archive/Anaconda3-2020.07-Linux-x86_64.sh)\n",
    "                \n",
    "* 更换到下载目录，打开terminal，输入以下命令: bash Anaconda3-2020.07-Linux-x86_64.sh\n",
    "\n",
    "\n",
    "如何验证安装完毕？\n",
    "\n",
    "\n",
    "\n",
    "**Windows**下\n",
    "\n",
    "`Win` 键，然后输入prompt，打开Anaconda Prompt (Anaconda3)\n",
    "\n",
    "并且输入 `conda list` ，如果看到列出的python相关module即说明成功。\n",
    " \n",
    "**Mac**下\n",
    "\n",
    "`Cmd+Space` 打开 Spotlight Search 输入 “Navigator” 打开程序\n",
    "\n",
    "输入 `conda list` ，如果看到列出的python相关module即说明成功。\n",
    "\n",
    "**Linux**下\n",
    "\n",
    "在terminal中输入 `conda init` 以后重新开启 terminal\n",
    "\n",
    "输入 `conda list` ，如果看到列出的python相关module即说明成功。\n",
    "\n",
    "\n",
    "#### * 1.1.2 安装Jupyter Notebook\n",
    "\n",
    "打开anaconda prompt，你会看到类似\n",
    "\n",
    "> (base) C:\\Users\\Hongyu>\n",
    "\n",
    "这样的信息，这说明此时你的conda已经启动，并且你在base环境中\n",
    "\n",
    "在prompt中输入\n",
    "\n",
    "`conda create --name PKU_Summer python=3`\n",
    "\n",
    "--- \n",
    "\n",
    "即建立起一个python3.x的环境，环境名称为PKU_Summer。\n",
    "\n",
    "之所以建立起一个独立的python编译环境而不是使用base是为了避免各种package版本之间相互污染。\n",
    "\n",
    "建议针对不同的项目每一次都进行不同的环境进行区隔。\n",
    "\n",
    "---\n",
    "\n",
    "你应该会看到类似的信息\n",
    "\n",
    "    Collecting package metadata (current_repodata.json): done\n",
    "    Solving environment: done\n",
    "\n",
    "    ## Package Plan ##\n",
    "\n",
    "      environment location: C:\\Users\\Hongyu\\Anaconda3\\envs\\PKP\n",
    "\n",
    "      added / updated specs:\n",
    "        - python=3\n",
    "\n",
    "    The following NEW packages will be INSTALLED:\n",
    "\n",
    "      ca-certificates    conda-forge/win-64::ca-certificates-2020.4.5.1-hecc5488_0\n",
    "      certifi            conda-forge/win-64::certifi-2020.4.5.1-py38h32f6830_0\n",
    "      openssl            conda-forge/win-64::openssl-1.1.1g-he774522_0\n",
    "      pip                conda-forge/noarch::pip-20.1-pyh9f0ad1d_0\n",
    "      python             conda-forge/win-64::python-3.8.2-h5fd99cc_7_cpython\n",
    "      python_abi         conda-forge/win-64::python_abi-3.8-1_cp38\n",
    "      setuptools         conda-forge/win-64::setuptools-46.4.0-py38h32f6830_0\n",
    "      sqlite             conda-forge/win-64::sqlite-3.30.1-hfa6e2cd_0\n",
    "      vc                 conda-forge/win-64::vc-14.1-h869be7e_1\n",
    "      vs2015_runtime     conda-forge/win-64::vs2015_runtime-14.16.27012-h30e32a0_2\n",
    "      wheel              conda-forge/noarch::wheel-0.34.2-py_1\n",
    "      wincertstore       conda-forge/win-64::wincertstore-0.2-py38_1003\n",
    "\n",
    "    Proceed ([y]/n)?\n"
   ]
  },
  {
   "cell_type": "markdown",
   "metadata": {},
   "source": [
    "输入 `y` 以继续\n",
    "\n",
    "然后我们就建立环境成功，接下来进入这个环境中\n",
    "\n",
    "在prompt中输入\n",
    "\n",
    "`conda activate PKU_Summer`\n",
    "\n",
    "然后你会看到 \n",
    "\n",
    "> (PKU_Summer) C:\\Users\\Hongyu>\n",
    "\n",
    "接下来安装jupyter notebook\n",
    "\n",
    "`conda install -c conda-forge jupyterlab` \n",
    "\n",
    "输入\n",
    "\n",
    "`y`\n",
    "\n",
    "\n",
    "安装**numpy/obspy/matplotlib/scipy**\n",
    "\n",
    "\n",
    "`conda install numpy` 然后输入 `y`\n",
    "\n",
    "`conda install -c conda-forge scipy` 然后输入 `y`\n",
    "\n",
    "`conda install -c conda-forge matplotlib` 然后输入 `y`\n",
    "\n",
    "`conda install -c conda-forge obspy` 然后输入 `y`\n",
    "\n",
    "\n",
    "安装**其他任何python package**\n",
    "\n",
    "\n",
    "一般语法为 : `conda install ****`\n"
   ]
  },
  {
   "cell_type": "markdown",
   "metadata": {},
   "source": [
    "### 1.2 如何运行 Jupyter Notebook？\n",
    "\n",
    "1. 打开Anaconda Prompt (Anaconda3)\n",
    "\n",
    "\n",
    "2. 输入`conda activate PKU_Summer`\n",
    "\n",
    "\n",
    "3. 输入`jupyter notebook`\n",
    "\n",
    "此时应该会自动打开本地浏览器运行jupyter notebook ，如果未打开，请复制在terminal里面出现的地址链接，复制并粘贴到浏览器地址栏。\n",
    "\n",
    "此时你就打开了一个jupyter notebook\n"
   ]
  },
  {
   "cell_type": "markdown",
   "metadata": {},
   "source": [
    "### 1.3 如何使用暑期课程 Jupyter Notebook 教程？\n",
    "\n",
    "当你进入到jupyter notebook的时候你看到的默认界面如下：\n",
    "\n",
    "![image.png](Example_1.png)\n",
    "\n",
    "依次说明一下内容和使用方法：\n",
    "\n",
    "1. **这一栏是notebook的标题栏，显示notebook的名称和最后修改时间**\n",
    "\n",
    "![image.png](Example_2.png)\n",
    "\n",
    "2. **这一栏是你可以进行的操作**\n",
    "\n",
    "![image.png](Example_3.png)\n",
    "\n",
    "3. **这一栏是常用操作按钮**\n",
    "\n",
    "![image.png](Example_4.png)\n",
    "\n",
    "我们最常用的是第一个按钮**保存** 和 `Run`代表的是运行这个cell内的代码\n",
    "\n",
    "需要注意的是，这里的`markdown`显示的是cell的格式，只有`code`格式才是可以运行的代码\n",
    "\n",
    "4. **这些为显示信息，他们的cell是`markdown`格式的，主要是用来阅读的**\n",
    "\n",
    "![image.png](Example_5.png)\n",
    "\n",
    "5. **如果你看到一个cell前面有个in[XX],格式为`code`,代表这个cell里的内容是可以更改并且本地运行的！**\n",
    "\n",
    "   **程序运行的输出会之间显示在cell下面**\n",
    "\n",
    "![image.png](Example_6.png)\n",
    "\n",
    "\n",
    "---\n",
    "\n",
    "请参考下面的一个cell，并可以随意修改其中内容，修改完毕后，点击上方的`Run`按钮运行这个cell内的代码：\n"
   ]
  },
  {
   "cell_type": "code",
   "execution_count": 3,
   "metadata": {},
   "outputs": [
    {
     "name": "stdout",
     "output_type": "stream",
     "text": [
      "Hello PKU Summer!\n"
     ]
    }
   ],
   "source": [
    "print (\"Hello PKU Summer!\")"
   ]
  },
  {
   "cell_type": "markdown",
   "metadata": {},
   "source": [
    "---\n",
    "\n",
    "在默认情况下，我们code应该为python3.x代码\n",
    "\n",
    "但是jupyter notebook同样支持在cell中进行shell命令的调试\n",
    "\n",
    "具体要求是在cell开头进行一个`%%bash`的声明\n",
    "\n",
    "请参考下面一个cell，并可以随意修改其中内容, 点击上方的`Run`按钮运行这个cell内的代码："
   ]
  },
  {
   "cell_type": "code",
   "execution_count": 4,
   "metadata": {},
   "outputs": [
    {
     "name": "stdout",
     "output_type": "stream",
     "text": [
      "Hello I am printing from Shell !\n"
     ]
    }
   ],
   "source": [
    "%%bash\n",
    "\n",
    "echo 'Hello I am printing from Shell !'\n"
   ]
  },
  {
   "cell_type": "markdown",
   "metadata": {},
   "source": [
    "---\n",
    "\n",
    "在cell中的代码可以反复修改和运行，并且即时看到结果。"
   ]
  },
  {
   "cell_type": "code",
   "execution_count": 5,
   "metadata": {
    "scrolled": true
   },
   "outputs": [
    {
     "name": "stdout",
     "output_type": "stream",
     "text": [
      "Example_1.png\n",
      "Example_2.png\n",
      "Example_3.png\n",
      "Example_4.png\n",
      "Example_5.png\n",
      "Example_6.png\n",
      "Intro.ipynb\n",
      "Intro.pdf\n",
      "Intro_JupyterLab.ipynb\n",
      "Intro_JupyterLab.pdf\n",
      "Intro_Numpy.ipynb\n",
      "Intro_Python.ipynb\n",
      "SAC_1.png\n",
      "SAC_10.png\n",
      "SAC_11.png\n",
      "SAC_12.png\n",
      "SAC_13.png\n",
      "SAC_14.png\n",
      "SAC_2.png\n",
      "SAC_3.png\n",
      "SAC_4.png\n",
      "SAC_5.png\n",
      "SAC_6.png\n",
      "SAC_7.png\n",
      "SAC_8.png\n",
      "SAC_9.png\n",
      "SAC_Docs.pdf\n",
      "SAC_Header_Doc.pdf\n",
      "SAC_Tutorial.ipynb\n",
      "Shell_Practice_Sample\n",
      "Shell_Practice_Sample.tar\n",
      "Shell_Practice_Sample_Line2to3\n",
      "Shell_Practice_Sample_With_a\n",
      "Shell_Tutorial.ipynb\n",
      "error.png\n"
     ]
    }
   ],
   "source": [
    "%%bash\n",
    "\n",
    "ls\n"
   ]
  },
  {
   "cell_type": "markdown",
   "metadata": {},
   "source": [
    "___\n",
    "假如你是window系统，有的同学可能会出现下列问题：\n",
    "![](./error.png)\n",
    "这里我们建议大家可以尝试换一下 jupyter notebook 的`kernel`，有很多种方法可以换`kernel`\n",
    "安装 `nb_conda` 这个包，用于更改kernel：\n",
    "```cmd\n",
    "conda install nb_conda\n",
    "```"
   ]
  },
  {
   "cell_type": "code",
   "execution_count": null,
   "metadata": {},
   "outputs": [],
   "source": []
  }
 ],
 "metadata": {
  "kernelspec": {
   "display_name": "Python [conda env:root]",
   "language": "python",
   "name": "conda-root-py"
  },
  "language_info": {
   "codemirror_mode": {
    "name": "ipython",
    "version": 3
   },
   "file_extension": ".py",
   "mimetype": "text/x-python",
   "name": "python",
   "nbconvert_exporter": "python",
   "pygments_lexer": "ipython3",
   "version": "3.7.6"
  },
  "varInspector": {
   "cols": {
    "lenName": 16,
    "lenType": 16,
    "lenVar": 40
   },
   "kernels_config": {
    "python": {
     "delete_cmd_postfix": "",
     "delete_cmd_prefix": "del ",
     "library": "var_list.py",
     "varRefreshCmd": "print(var_dic_list())"
    },
    "r": {
     "delete_cmd_postfix": ") ",
     "delete_cmd_prefix": "rm(",
     "library": "var_list.r",
     "varRefreshCmd": "cat(var_dic_list()) "
    }
   },
   "types_to_exclude": [
    "module",
    "function",
    "builtin_function_or_method",
    "instance",
    "_Feature"
   ],
   "window_display": false
  }
 },
 "nbformat": 4,
 "nbformat_minor": 4
}
